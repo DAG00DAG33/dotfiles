{
  "nbformat": 4,
  "nbformat_minor": 0,
  "metadata": {
    "colab": {
      "name": "MP1_gd.ipynb",
      "provenance": []
    },
    "kernelspec": {
      "display_name": "Python 3 (ipykernel)",
      "language": "python",
      "name": "python3"
    },
    "language_info": {
      "codemirror_mode": {
        "name": "ipython",
        "version": 3
      },
      "file_extension": ".py",
      "mimetype": "text/x-python",
      "name": "python",
      "nbconvert_exporter": "python",
      "pygments_lexer": "ipython3",
      "version": "3.6.12"
    }
  },
  "cells": [
    {
      "cell_type": "markdown",
      "metadata": {
        "id": "aP_g7T1hKVk8"
      },
      "source": [
        "# Problem 1\n",
        "\n"
      ]
    },
    {
      "cell_type": "markdown",
      "metadata": {
        "id": "aNzQ5rQQKVlM"
      },
      "source": [
        "$$min_x ||y - Ax||_2$$\n",
        "is equivalent to \n",
        "$$min_{\\hat{y}}||y - \\hat{y}||$$\n",
        "being $\\hat{y}$ in $R(A)$\n",
        "\n",
        "Now I want to prove the problem is quivalent to:\n",
        "$$(y-\\hat{y})^Hv = 0, \\forall v \\in R(A)$$\n",
        "Consider any that $y_o$ is the vercor in range of A st $y - y_o$ is orthogonal to all vercors in range of A and $\\hat{y}$ is any other vector in range of A\n",
        "  $$||y - \\hat{y}||_{2}^{2} = ||y - y_o + y_o - \\hat{y}||_{2}^{2} = ||y - y_o||_{2}^{2} +  ||y_o - \\hat{y}||_{2}^{2} + (y - y_o)^H(y_o - \\hat{y}) + (y_o - \\hat{y})^H(y - y_o)$$\n",
        "  As we said $y - y_o$ is perpendicular to all vectors in $R(A)$ and $y_o - \\hat{y} \\in R(A)$ because they are both in $R(A)$, so:\n",
        "  $$(y - y_o)^H(y_o - \\hat{y}) = 0 \\text{and} (y_o - \\hat{y})^H(y - y_o) = 0\\\\\n",
        "  \\Rightarrow ||y - \\hat{y}||_{2}^{2} = ||y - y_o||_{2}^{2} +  ||y_o - \\hat{y}||_{2}^{2} \\geq ||y - y_o||_{2}^{2}$$\n",
        "  So $y_o$, the vector in range of A st $y - y_o$ is orthogonal to all vercors in range of A is the solution.\n",
        "   That proves that \n",
        "  $$min_{\\hat{y}}||y - \\hat{y}|| \\Leftrightarrow (y-\\hat{y})^Hv = 0, \\forall v \\in R(A)$$\n",
        "  We can substitute $\\forall v \\in R(A)$ by just one basis of $R(A)$. $A$ will have that basis, and if $rank(A) < n$ it will just have some extra columns\n",
        "  $$(y-\\hat{y})^HA = 0 \\\\ A^H (y-\\hat{y}) = 0 \\\\ A^H y - A^H \\hat{y} = 0 \\\\ A^H y = A^H \\hat{y} \\\\ A^H y = A^H A x$$\n",
        "  In the last step, as $\\hat{y}\\in R(A)$ I have represented it with $Ax$\n",
        "    \n",
        "    \n",
        "\n",
        "\n"
      ]
    },
    {
      "cell_type": "markdown",
      "metadata": {
        "id": "dvOyZBV6KVlR"
      },
      "source": [
        "$(a)$\n",
        "\n",
        "Yes\n",
        "\n",
        "We can follow the same steps than in the previous demostration, but instead of choosing the matrix $A$ I will chooshe the matrix $V = [b_1, ..., b_k]$ being ${b_1, ..., b_k}$ a basis for $R(A)$\n",
        "\n",
        "$$(y-\\hat{y})^Hv = 0, \\forall v \\in R(A)$$\n",
        "We can substitute $\\forall v \\in R(A)$ by just one basis of $R(A)$. $V$ will have that basis.\n",
        "$$(y-\\hat{y})^HV = 0 \\\\ V^H (y-\\hat{y}) = 0 \\\\ V^H y - V^H \\hat{y} = 0 \\\\V^H y = V^H \\hat{y} \\\\ V^H y = V^H V x$$\n",
        "In the last step, as $\\hat{y}\\in R(A)$ I have represented it with $Vx$\n",
        "    \n",
        "As $V^HV$ will be a $KxK$ matrix with $rank(V^HV) = k$ it will be invertible and the system will have the solution\n",
        "    \n",
        "   $$(V^H V )^{-1}V^H y = x$$\n",
        "    \n"
      ]
    },
    {
      "cell_type": "markdown",
      "metadata": {
        "id": "SmHzMYGUKVlT"
      },
      "source": [
        "$(b)$ \n",
        "\n",
        "I have already shown it at lest has 1 solution\n",
        "If there are more than one is because $N(A) \\neq \\{0\\}$ and $\\hat{y} = Ax$ has infinite solutions, so\n",
        "$$A^H y = A^H A x$$\n",
        "will have infinite solutions"
      ]
    },
    {
      "cell_type": "markdown",
      "metadata": {
        "id": "VMmqyHCAKVlV"
      },
      "source": [
        "\n",
        "$(c)$\n",
        "\n",
        "If $rank(A)<n$ then $A^HA$ won't be invertible. The equation will have infinite solutions. To find one we can use the SVD:\n",
        "$$A^Hy = A^HAx\\\\\n",
        "(U\\Sigma V^T)^Ty = (U\\Sigma V^T)^T(U\\Sigma V^T)x\\\\\n",
        "V\\Sigma^TU^Ty = V\\Sigma^TU^TU\\Sigma V^Tx\\\\\n",
        "V\\Sigma^TU^Ty = V\\Sigma^T\\Sigma V^Tx\\\\\n",
        "U^Ty = \\Sigma V^Tx\\\\\n",
        "y = U \\Sigma V^T x\\\\\n",
        "V \\Sigma^{-1} U^T y = x\n",
        "$$\n",
        "$\\Sigma^{-1}$ is easy to compute as it is a diagonal matrix"
      ]
    },
    {
      "cell_type": "markdown",
      "metadata": {
        "id": "zBTECio-KVlZ"
      },
      "source": [
        "# Problem 2"
      ]
    },
    {
      "cell_type": "code",
      "metadata": {
        "id": "UmIzG9_CKVlc"
      },
      "source": [
        "import scipy.io\n",
        "import numpy as np\n",
        "import matplotlib.pyplot as plt\n",
        "%matplotlib inline"
      ],
      "execution_count": null,
      "outputs": []
    },
    {
      "cell_type": "code",
      "metadata": {
        "id": "_NTUIiHunDnI"
      },
      "source": [
        "database = scipy.io.loadmat(\"mnist.mat\")"
      ],
      "execution_count": null,
      "outputs": []
    },
    {
      "cell_type": "markdown",
      "metadata": {
        "id": "G0Y9z7zuKVlk"
      },
      "source": [
        "## (a) Binary classifier\n"
      ]
    },
    {
      "cell_type": "markdown",
      "metadata": {
        "id": "JL5s3N3VKVlm"
      },
      "source": [
        "To normalize the data I just divide the X data by 255"
      ]
    },
    {
      "cell_type": "code",
      "metadata": {
        "colab": {
          "base_uri": "https://localhost:8080/"
        },
        "id": "nr7DsH-xnZYe",
        "outputId": "5abbef56-e2ba-401f-906d-306e77004205"
      },
      "source": [
        "testX = database['testX'] / 255\n",
        "database_testY = database['testY'] * 1.0\n",
        "trainX = database['trainX'] / 255\n",
        "database_trainY = database['trainY'] * 1.0\n",
        "trainX.shape"
      ],
      "execution_count": null,
      "outputs": [
        {
          "data": {
            "text/plain": [
              "(60000, 784)"
            ]
          },
          "execution_count": 3,
          "metadata": {},
          "output_type": "execute_result"
        }
      ]
    },
    {
      "cell_type": "markdown",
      "metadata": {
        "id": "t6ZVYMvMKVls"
      },
      "source": [
        "We can check the data is indeed normalized"
      ]
    },
    {
      "cell_type": "code",
      "metadata": {
        "colab": {
          "base_uri": "https://localhost:8080/",
          "height": 53
        },
        "id": "8j0y9-k5na5K",
        "outputId": "89c53be8-4f98-4ec4-8d8d-66bd6104432f"
      },
      "source": [
        "print(np.min(trainX), np.max(trainX))\n",
        "print(np.min(testX), np.max(testX))"
      ],
      "execution_count": null,
      "outputs": [
        {
          "name": "stdout",
          "output_type": "stream",
          "text": [
            "0.0 1.0\n",
            "0.0 1.0\n"
          ]
        }
      ]
    },
    {
      "cell_type": "markdown",
      "metadata": {
        "id": "UarTnfcIKVlv"
      },
      "source": [
        "For the binary classifier I will choose the labels $1$ for the number 5 and $-1$ for any other"
      ]
    },
    {
      "cell_type": "code",
      "metadata": {
        "id": "sLp_Ph2oxoM1"
      },
      "source": [
        "#get the labels 1 and -1 for 5 or others respectivly\n",
        "testY = np.array(database_testY)\n",
        "for i in range(testY.shape[1]):\n",
        "    testY[0][i] = 1 if testY[0][i] == 5 else -1\n",
        "trainY = np.array(database_trainY)\n",
        "for i in range(trainY.shape[1]):\n",
        "    trainY[0][i] = 1 if trainY[0][i] == 5 else -1"
      ],
      "execution_count": null,
      "outputs": []
    },
    {
      "cell_type": "markdown",
      "metadata": {
        "id": "tyBFkXuRKVlx"
      },
      "source": [
        "To test the binary clasifier I have made this function that gives true positive, true negative, false positive, false negative, overal accuracy and error rate"
      ]
    },
    {
      "cell_type": "code",
      "metadata": {
        "id": "ihAmxfo9zTn3"
      },
      "source": [
        "def accuracy(Y_hat, Y):\n",
        "    TP = 0;\n",
        "    FP = 0;\n",
        "    TN = 0;\n",
        "    FN = 0;\n",
        "    for i in range(Y_hat.shape[0]):\n",
        "        if Y_hat[i] == 1 and Y[0][i] == 1:\n",
        "            TP = TP + 1\n",
        "        elif Y_hat[i] == 1 and Y[0][i] == -1:\n",
        "            FP = FP + 1\n",
        "        elif Y_hat[i] == -1 and Y[0][i] == -1:\n",
        "            TN = TN + 1\n",
        "        elif Y_hat[i] == -1 and Y[0][i] == 1:\n",
        "            FN = FN + 1\n",
        "    print(\"TP\", TP)\n",
        "    print(\"FP\", FP)\n",
        "    print(\"TN\", TN)\n",
        "    print(\"FN\", FN)\n",
        "    print(\"Total accuracy\", (TP + TN) / (TP + TN + FP + FN))\n",
        "    print(\"Total error rate\", (FP + FN) / (TP + TN + FP + FN))\n",
        "    print()"
      ],
      "execution_count": null,
      "outputs": []
    },
    {
      "cell_type": "code",
      "metadata": {
        "id": "zbJXthzsokOz"
      },
      "source": [
        "def run(X, Y, train = True):\n",
        "    X = np.concatenate((X, np.full((X.shape[0], 1), 1)), axis = 1) #concatenate a column of ones to compute the alpha in the same matrix multiplication\n",
        "    if (train):\n",
        "        run.alphabeta = np.linalg.inv(X.T @ X) @ X.T @ Y.T\n",
        "    X = X @ run.alphabeta\n",
        "    for i in range(X.shape[0]): #sign()\n",
        "        X[i] = -1 if X[i] < 0 else 1\n",
        "    return X"
      ],
      "execution_count": null,
      "outputs": []
    },
    {
      "cell_type": "markdown",
      "metadata": {
        "id": "lsEI_XXCtyJV"
      },
      "source": [
        "Ussing this 'training' fromula we run into a problem. We are assuming X columns are linealy independant. It is not a big assumntion, for the training set it is a 60000 by 729 matix so it is likely to be that way. Let's check it:"
      ]
    },
    {
      "cell_type": "code",
      "metadata": {
        "colab": {
          "base_uri": "https://localhost:8080/"
        },
        "id": "zAGTPJGVtuxw",
        "outputId": "567800ed-946c-44ae-ca11-8031b48827b6"
      },
      "source": [
        "print(np.linalg.matrix_rank(trainX))\n",
        "print(trainX.shape)"
      ],
      "execution_count": null,
      "outputs": [
        {
          "name": "stdout",
          "output_type": "stream",
          "text": [
            "712\n",
            "(60000, 784)\n"
          ]
        }
      ]
    },
    {
      "cell_type": "markdown",
      "metadata": {
        "id": "Kccc6HXMupp5"
      },
      "source": [
        "We can see the assumntion doesn't hold. \n",
        "To make the columns linealy independant we can do what was propposed in class and in the book: remove the 'pixels' that are non-zero in less that 600 datapoints. Probably the linear dependeces come from those pixels, there might even be some pixels that are always 0"
      ]
    },
    {
      "cell_type": "code",
      "metadata": {
        "colab": {
          "base_uri": "https://localhost:8080/"
        },
        "id": "zJ2MbyDwnEN3",
        "outputId": "297e0ce6-6b4c-43d2-f839-0762316215a8"
      },
      "source": [
        "delete = []\n",
        "for j in range(trainX.shape[1]):\n",
        "    count = 0\n",
        "    for i in range(trainX.shape[0]):\n",
        "        if trainX[i][j] != 0:\n",
        "            count = count + 1;\n",
        "    for i in range(testX.shape[0]):\n",
        "        if testX[i][j] != 0:\n",
        "            count = count + 1;\n",
        "    if count < 600:\n",
        "        delete.append(j)\n",
        "\n",
        "trX = np.array(trainX)\n",
        "teX = np.array(testX)\n",
        "trX = np.delete(trX, delete, 1)\n",
        "teX = np.delete(teX, delete, 1)\n",
        "  \n",
        "print(np.linalg.matrix_rank(trX))\n",
        "print(trX.shape)\n",
        "print(np.linalg.matrix_rank(teX))\n",
        "print(teX.shape)\n"
      ],
      "execution_count": null,
      "outputs": [
        {
          "name": "stdout",
          "output_type": "stream",
          "text": [
            "502\n",
            "(60000, 502)\n",
            "502\n",
            "(10000, 502)\n"
          ]
        }
      ]
    },
    {
      "cell_type": "code",
      "metadata": {
        "colab": {
          "base_uri": "https://localhost:8080/"
        },
        "id": "-X-F6rcS2LnH",
        "outputId": "e01f8300-f2af-49a7-b499-0dfd9d562191"
      },
      "source": [
        "accuracy(run(trX, trainY), trainY)\n",
        "accuracy(run(teX, 0, train = False), testY)"
      ],
      "execution_count": null,
      "outputs": [
        {
          "name": "stdout",
          "output_type": "stream",
          "text": [
            "TP 2370\n",
            "FP 304\n",
            "TN 54275\n",
            "FN 3051\n",
            "Total accuracy 0.9440833333333334\n",
            "Total error rate 0.05591666666666667\n",
            "\n",
            "TP 407\n",
            "FP 57\n",
            "TN 9051\n",
            "FN 485\n",
            "Total accuracy 0.9458\n",
            "Total error rate 0.0542\n",
            "\n"
          ]
        }
      ]
    },
    {
      "cell_type": "markdown",
      "metadata": {
        "id": "K_AkGpzAvwFj"
      },
      "source": [
        "We can see this solution works, but it is not ideal because it is not going to work with any input, and in the second part of the project if we want to test different weights for the first layer we will run constantly against the linear dependecy problem."
      ]
    },
    {
      "cell_type": "markdown",
      "metadata": {
        "id": "C3iuqIHeKVl8"
      },
      "source": [
        "We can use the method explained in the problem one to obtain the pseudoinverse and find one of the solutions"
      ]
    },
    {
      "cell_type": "code",
      "metadata": {
        "id": "vSET_YY1w5NG"
      },
      "source": [
        "def run(X, Y, train = True):\n",
        "    X_cpy = np.concatenate((X, np.full((X.shape[0], 1), 1)), axis = 1) #concatenate a column of ones to compute the alpha in the same matrix multiplicati\n",
        "    if (train):\n",
        "        U, E_v, V_T = np.linalg.svd(X_cpy, full_matrices=False)\n",
        "        E_inv = np.matrix([[0 if i != j else 1/E_v[i] for j in range(len(E_v))] for i in range(len(E_v))])\n",
        "        run.alphabeta = V_T.T @ E_inv @ U.T @ Y.T\n",
        "    X_cpy = X_cpy @ run.alphabeta\n",
        "    for i in range(X.shape[0]): #sign\n",
        "        X_cpy[i] = -1 if X_cpy[i] < 0 else 1\n",
        "    return X_cpy"
      ],
      "execution_count": null,
      "outputs": []
    },
    {
      "cell_type": "markdown",
      "metadata": {
        "id": "axZrEszRKVl9"
      },
      "source": [
        "This function runs\n",
        "\n",
        "$$\\hat{f}(x) = sign(\\beta^T x + \\alpha)$$\n",
        "being $\\beta$ and $\\alpha$ the learned parameters computing \n",
        "$$min_{\\alpha, \\beta}\\sum_{i=1}^N(y_i - \\beta^Tx - \\alpha)$$\n",
        "The function trains these parameters if the argument trains is passed as True\n",
        "\n",
        "To compute the parameter $\\alpha$ I concatenate a columns of 1 to $X$ an $\\alpha$ to the vector $\\beta$\n",
        "\n",
        "In the program it might seem the multuplication is done the other way round, but given the dimension of X, and what each one represents in the numpy array this is the way to go"
      ]
    },
    {
      "cell_type": "code",
      "metadata": {
        "id": "1XnALd7mKVl-",
        "outputId": "0b032b87-56b5-4a2c-f2c5-3bdec4b64527"
      },
      "source": [
        "accuracy(run(trainX, trainY), trainY)\n",
        "accuracy(run(testX, 0, train = False), testY)"
      ],
      "execution_count": null,
      "outputs": [
        {
          "name": "stdout",
          "output_type": "stream",
          "text": [
            "TP 2406\n",
            "FP 303\n",
            "TN 54276\n",
            "FN 3015\n",
            "Total accuracy 0.9447\n",
            "Total error rate 0.0553\n",
            "\n",
            "TP 413\n",
            "FP 59\n",
            "TN 9049\n",
            "FN 479\n",
            "Total accuracy 0.9462\n",
            "Total error rate 0.0538\n",
            "\n"
          ]
        }
      ]
    },
    {
      "cell_type": "markdown",
      "metadata": {
        "id": "pb1MVsdeKVmA"
      },
      "source": [
        "The learned parameters will be:"
      ]
    },
    {
      "cell_type": "code",
      "metadata": {
        "id": "T9FhDaN9KVmB",
        "outputId": "82a17113-766a-4034-a94e-51e002b51a0e"
      },
      "source": [
        "print(run.alphabeta.shape)\n",
        "print(run.alphabeta)"
      ],
      "execution_count": null,
      "outputs": [
        {
          "name": "stdout",
          "output_type": "stream",
          "text": [
            "(785, 1)\n",
            "[[ 9.23184578e+12]\n",
            " [ 2.19796835e+12]\n",
            " [ 3.65122503e+11]\n",
            " [-2.74456331e+12]\n",
            " [ 2.07466840e+12]\n",
            " [-3.10342255e+12]\n",
            " [-3.21578344e+12]\n",
            " [ 4.16384984e+11]\n",
            " [-2.53252007e+12]\n",
            " [-3.00831880e+12]\n",
            " [ 2.91806345e+12]\n",
            " [ 2.12132680e+12]\n",
            " [ 1.58624749e+12]\n",
            " [-7.24427986e+11]\n",
            " [ 6.61424795e+11]\n",
            " [-2.50420627e+11]\n",
            " [ 6.71957998e+11]\n",
            " [-1.64423851e+12]\n",
            " [-5.48548274e+11]\n",
            " [-3.66451592e+12]\n",
            " [ 3.05706907e+12]\n",
            " [-3.30714393e+12]\n",
            " [-1.25807808e+12]\n",
            " [-1.13269150e+11]\n",
            " [ 1.01844303e+12]\n",
            " [ 9.29632145e+11]\n",
            " [ 5.02174199e+12]\n",
            " [-1.80698873e+12]\n",
            " [ 1.32406120e+11]\n",
            " [ 5.70541898e+12]\n",
            " [ 4.11889328e+11]\n",
            " [ 3.87835568e+12]\n",
            " [-2.65879342e+01]\n",
            " [ 9.32454272e+00]\n",
            " [-1.21103687e-01]\n",
            " [-5.34774585e-01]\n",
            " [-1.50485953e-01]\n",
            " [ 1.08379744e-01]\n",
            " [-5.41979855e-02]\n",
            " [-7.13671074e-02]\n",
            " [ 1.59631826e-01]\n",
            " [-1.43489906e-01]\n",
            " [ 6.39149744e-02]\n",
            " [-3.75370462e-02]\n",
            " [ 4.02717429e-02]\n",
            " [-1.99370907e-02]\n",
            " [ 9.56828614e-02]\n",
            " [-1.64694852e-01]\n",
            " [ 4.24135188e-02]\n",
            " [ 3.72917433e-02]\n",
            " [ 5.83945184e-01]\n",
            " [-5.87362218e-01]\n",
            " [-1.91864746e+12]\n",
            " [-9.44346571e+11]\n",
            " [-4.94169074e+12]\n",
            " [ 1.55807459e+12]\n",
            " [ 6.54016984e+10]\n",
            " [ 1.28969754e+12]\n",
            " [-1.61352736e+01]\n",
            " [-3.36410809e-01]\n",
            " [-5.22523666e-01]\n",
            " [ 5.52330797e-01]\n",
            " [ 4.70711927e-01]\n",
            " [-6.76480344e-02]\n",
            " [ 1.06917803e-01]\n",
            " [ 6.55601332e-02]\n",
            " [ 4.72319880e-02]\n",
            " [-1.21408286e-02]\n",
            " [-3.05642561e-02]\n",
            " [-2.27371661e-02]\n",
            " [-2.19861545e-02]\n",
            " [-4.09857735e-02]\n",
            " [-2.09357605e-02]\n",
            " [-2.55044159e-03]\n",
            " [-5.63258804e-02]\n",
            " [-5.85857342e-03]\n",
            " [-6.46269981e-02]\n",
            " [-7.85573051e-02]\n",
            " [-3.15334479e-03]\n",
            " [-8.02778602e-03]\n",
            " [-1.77858917e-01]\n",
            " [ 5.44680979e-01]\n",
            " [ 2.17973157e+12]\n",
            " [-1.11853767e+12]\n",
            " [ 4.60055437e+12]\n",
            " [ 1.71329408e+12]\n",
            " [ 7.31296018e+00]\n",
            " [ 3.12049565e-02]\n",
            " [ 7.28548853e-01]\n",
            " [-2.64594561e-01]\n",
            " [ 1.65864933e-01]\n",
            " [-6.69093307e-02]\n",
            " [ 1.62227629e-01]\n",
            " [-2.43873043e-02]\n",
            " [ 1.17038176e-01]\n",
            " [-7.56035694e-02]\n",
            " [ 6.37355384e-02]\n",
            " [ 2.22138701e-03]\n",
            " [-1.08227497e-03]\n",
            " [-3.71913177e-02]\n",
            " [-2.06246385e-02]\n",
            " [-6.99820432e-02]\n",
            " [-2.59764602e-03]\n",
            " [-6.97799909e-02]\n",
            " [-4.73412689e-02]\n",
            " [-1.03903118e-01]\n",
            " [-6.38174159e-02]\n",
            " [-2.72364991e-01]\n",
            " [-2.82273087e-01]\n",
            " [-5.99931333e-02]\n",
            " [-1.01656419e+00]\n",
            " [-3.97904704e+12]\n",
            " [-5.32529539e+12]\n",
            " [-6.43722195e-01]\n",
            " [-1.83783218e+00]\n",
            " [ 1.00846731e-02]\n",
            " [-5.91300289e-02]\n",
            " [ 4.38143854e-02]\n",
            " [-4.63467455e-02]\n",
            " [ 3.83404934e-02]\n",
            " [-9.41715002e-02]\n",
            " [ 2.49494327e-02]\n",
            " [ 4.67131012e-03]\n",
            " [-1.23454643e-02]\n",
            " [-1.05257571e-02]\n",
            " [-5.98240576e-02]\n",
            " [ 1.02820731e-02]\n",
            " [-7.59839535e-03]\n",
            " [ 1.88342532e-02]\n",
            " [-1.38912425e-02]\n",
            " [ 9.92835776e-03]\n",
            " [-7.51199360e-03]\n",
            " [-6.37504747e-02]\n",
            " [ 7.01451308e-02]\n",
            " [-3.91037177e-02]\n",
            " [ 2.16058344e-01]\n",
            " [ 1.47544342e-01]\n",
            " [-3.97117081e-02]\n",
            " [ 3.75572751e-01]\n",
            " [-4.60494519e+00]\n",
            " [-5.61325617e+12]\n",
            " [-2.32732503e+11]\n",
            " [-5.50487568e-01]\n",
            " [ 5.70416222e-02]\n",
            " [ 2.06124116e-02]\n",
            " [-7.58013600e-02]\n",
            " [-5.96077683e-02]\n",
            " [-3.72225863e-03]\n",
            " [ 3.26775710e-02]\n",
            " [-9.45448883e-03]\n",
            " [ 1.34716762e-02]\n",
            " [ 1.56170247e-02]\n",
            " [-3.97172408e-02]\n",
            " [-5.90993769e-03]\n",
            " [-3.61524845e-02]\n",
            " [-3.31010856e-02]\n",
            " [-2.55123204e-02]\n",
            " [ 1.07374953e-02]\n",
            " [ 1.92222764e-03]\n",
            " [-6.85633291e-03]\n",
            " [ 7.87686291e-02]\n",
            " [ 2.92486045e-02]\n",
            " [ 1.20335800e-01]\n",
            " [ 6.29235183e-02]\n",
            " [ 5.32022623e-02]\n",
            " [ 4.79910789e-02]\n",
            " [ 3.45967553e-01]\n",
            " [ 7.81595174e-01]\n",
            " [-2.68403729e+12]\n",
            " [-3.55288436e-01]\n",
            " [ 1.09050917e-01]\n",
            " [-1.23896994e-01]\n",
            " [-7.12040569e-02]\n",
            " [ 3.21589495e-02]\n",
            " [ 7.62389843e-03]\n",
            " [-3.47001091e-02]\n",
            " [-3.81387421e-02]\n",
            " [-6.22695392e-03]\n",
            " [ 1.03420518e-04]\n",
            " [ 4.45174382e-03]\n",
            " [-9.37660816e-03]\n",
            " [-1.85757390e-02]\n",
            " [ 2.72988888e-02]\n",
            " [-1.05699109e-02]\n",
            " [-1.13523287e-02]\n",
            " [-8.21406252e-03]\n",
            " [ 1.40090696e-02]\n",
            " [ 3.29744854e-02]\n",
            " [ 4.03322485e-02]\n",
            " [ 1.41832719e-02]\n",
            " [ 6.61385102e-02]\n",
            " [ 7.51361871e-02]\n",
            " [ 2.77519594e-01]\n",
            " [ 5.74168667e-02]\n",
            " [ 1.45192057e-01]\n",
            " [ 1.77180990e-01]\n",
            " [ 4.63822571e-01]\n",
            " [-2.12351774e-01]\n",
            " [ 4.72684492e-02]\n",
            " [-7.51793570e-02]\n",
            " [-2.28690797e-02]\n",
            " [-3.72436261e-02]\n",
            " [-1.17880671e-02]\n",
            " [ 2.23993605e-02]\n",
            " [-9.12894296e-03]\n",
            " [-4.36687589e-03]\n",
            " [ 3.82384115e-02]\n",
            " [ 2.64373870e-02]\n",
            " [ 8.18405560e-03]\n",
            " [-1.92072561e-02]\n",
            " [ 1.07552609e-02]\n",
            " [-5.23350138e-02]\n",
            " [ 1.29965269e-02]\n",
            " [ 1.80699802e-03]\n",
            " [ 5.25040109e-03]\n",
            " [ 9.45552323e-03]\n",
            " [-2.81796993e-02]\n",
            " [ 2.85964574e-02]\n",
            " [ 1.01199354e-04]\n",
            " [ 2.28090872e-02]\n",
            " [ 2.24378103e-01]\n",
            " [ 2.53496102e-01]\n",
            " [-3.32546460e-02]\n",
            " [ 2.05976203e-01]\n",
            " [ 1.83407172e-01]\n",
            " [ 1.07465443e-01]\n",
            " [ 2.63753467e-02]\n",
            " [ 4.67718187e-02]\n",
            " [-9.90057890e-02]\n",
            " [ 5.62475658e-02]\n",
            " [-3.19244607e-02]\n",
            " [ 3.84279698e-04]\n",
            " [ 4.04886969e-02]\n",
            " [-6.45349761e-03]\n",
            " [-7.87814089e-03]\n",
            " [ 2.64616395e-02]\n",
            " [ 2.91358699e-03]\n",
            " [-1.78358322e-02]\n",
            " [-8.99786074e-03]\n",
            " [ 1.66899009e-02]\n",
            " [-5.27411788e-03]\n",
            " [ 9.58888351e-03]\n",
            " [-1.35740560e-02]\n",
            " [-1.11383397e-02]\n",
            " [ 3.73357499e-02]\n",
            " [ 1.12421005e-02]\n",
            " [-5.36275200e-02]\n",
            " [ 7.95480046e-02]\n",
            " [ 2.48607489e-01]\n",
            " [ 3.11909817e-01]\n",
            " [ 6.56882844e-02]\n",
            " [-2.74074522e-01]\n",
            " [ 3.84178992e-02]\n",
            " [-1.47080529e-01]\n",
            " [ 4.99037746e-03]\n",
            " [ 2.58149876e-02]\n",
            " [-1.73775031e-02]\n",
            " [ 2.83999340e-03]\n",
            " [ 2.57603005e-02]\n",
            " [-4.25309833e-03]\n",
            " [ 2.80219754e-02]\n",
            " [ 9.48925674e-03]\n",
            " [-3.71254455e-03]\n",
            " [ 4.32921077e-02]\n",
            " [-1.32316239e-02]\n",
            " [-3.63390035e-03]\n",
            " [-2.33217706e-02]\n",
            " [-1.52357139e-02]\n",
            " [-1.77586981e-02]\n",
            " [-1.78981148e-03]\n",
            " [ 2.45935284e-03]\n",
            " [ 1.34448899e-02]\n",
            " [-4.20648895e-02]\n",
            " [ 1.65466784e-02]\n",
            " [ 3.70473034e-02]\n",
            " [-5.45851385e-02]\n",
            " [ 2.60335467e-01]\n",
            " [ 5.15718448e-01]\n",
            " [-1.88942383e-01]\n",
            " [ 6.32925362e-01]\n",
            " [ 1.28392252e-01]\n",
            " [-8.70244952e-02]\n",
            " [ 1.13120796e-01]\n",
            " [-1.89863749e-02]\n",
            " [ 1.04730544e-02]\n",
            " [ 1.68081267e-02]\n",
            " [-3.51667233e-02]\n",
            " [ 1.76793125e-03]\n",
            " [ 1.94164499e-02]\n",
            " [ 3.81589352e-02]\n",
            " [-4.57620584e-03]\n",
            " [ 5.66034749e-02]\n",
            " [ 3.33784391e-02]\n",
            " [ 1.87483407e-02]\n",
            " [-2.45376314e-02]\n",
            " [-3.26340574e-02]\n",
            " [-3.20171318e-02]\n",
            " [-7.09709860e-02]\n",
            " [-3.83082994e-02]\n",
            " [-6.86144928e-02]\n",
            " [-3.68773715e-02]\n",
            " [-6.65230378e-02]\n",
            " [-8.69993632e-02]\n",
            " [-7.71131718e-02]\n",
            " [ 8.46666222e-02]\n",
            " [ 5.86906459e-01]\n",
            " [ 4.66819344e-01]\n",
            " [-1.40430014e+00]\n",
            " [-4.25615417e-01]\n",
            " [-2.87905092e-02]\n",
            " [-9.74037276e-03]\n",
            " [-4.53798448e-02]\n",
            " [ 2.89419760e-02]\n",
            " [ 1.42124993e-03]\n",
            " [ 1.39585447e-02]\n",
            " [ 3.71683084e-02]\n",
            " [-1.00237538e-02]\n",
            " [ 3.72843848e-02]\n",
            " [ 5.13698165e-03]\n",
            " [ 2.15747897e-02]\n",
            " [ 1.43557379e-02]\n",
            " [ 3.48978496e-02]\n",
            " [ 3.93408063e-04]\n",
            " [-6.09883225e-02]\n",
            " [-1.96194180e-02]\n",
            " [-5.53238544e-02]\n",
            " [-6.54395269e-02]\n",
            " [-5.86031139e-02]\n",
            " [-8.87359827e-02]\n",
            " [-7.69223589e-02]\n",
            " [-1.06658462e-01]\n",
            " [-6.78120077e-02]\n",
            " [-2.97222645e-01]\n",
            " [ 7.10909283e-01]\n",
            " [-4.26701531e-03]\n",
            " [ 1.16468598e+00]\n",
            " [ 5.71407035e-01]\n",
            " [-2.88116569e-01]\n",
            " [-1.16918896e-01]\n",
            " [-1.83625573e-02]\n",
            " [ 2.36544495e-02]\n",
            " [ 1.82468846e-02]\n",
            " [ 5.70505050e-02]\n",
            " [ 1.31902196e-02]\n",
            " [ 4.24477109e-02]\n",
            " [-6.16641027e-03]\n",
            " [ 2.97651887e-02]\n",
            " [ 4.87832072e-02]\n",
            " [ 2.55743246e-02]\n",
            " [ 4.24651886e-02]\n",
            " [-5.51497529e-03]\n",
            " [ 1.09168581e-02]\n",
            " [-2.01425761e-02]\n",
            " [-1.08494164e-02]\n",
            " [-5.43524171e-03]\n",
            " [-4.47962752e-02]\n",
            " [-6.44104256e-03]\n",
            " [-3.26401124e-02]\n",
            " [-7.89981508e-02]\n",
            " [-1.42027593e-01]\n",
            " [-1.53419459e-01]\n",
            " [-2.87552543e-01]\n",
            " [ 4.98600459e-01]\n",
            " [-1.22450685e+00]\n",
            " [-1.80684815e-01]\n",
            " [ 4.71451703e-01]\n",
            " [-7.21940203e-02]\n",
            " [-6.88676133e-02]\n",
            " [ 5.81050155e-02]\n",
            " [ 8.52451485e-02]\n",
            " [ 2.53296281e-02]\n",
            " [ 2.83570459e-02]\n",
            " [ 9.74730437e-03]\n",
            " [ 3.00480429e-02]\n",
            " [ 1.08804072e-02]\n",
            " [ 3.23794499e-02]\n",
            " [ 2.94613448e-02]\n",
            " [-8.36577025e-03]\n",
            " [ 1.93331782e-03]\n",
            " [-1.82688140e-02]\n",
            " [-1.26891323e-02]\n",
            " [-2.73142950e-02]\n",
            " [ 7.66771803e-03]\n",
            " [ 1.69237908e-02]\n",
            " [-5.73030078e-03]\n",
            " [-3.40613727e-02]\n",
            " [ 2.24718818e-02]\n",
            " [-2.63123830e-02]\n",
            " [ 1.39348684e-01]\n",
            " [ 5.49498480e-02]\n",
            " [-2.62027016e-01]\n",
            " [-8.05760804e-03]\n",
            " [-4.98300114e+11]\n",
            " [-6.40518544e-01]\n",
            " [-7.05470218e-02]\n",
            " [ 1.15532477e-01]\n",
            " [ 2.02889652e-03]\n",
            " [ 1.18587112e-02]\n",
            " [-2.35674860e-02]\n",
            " [-2.20600777e-02]\n",
            " [-1.90610162e-02]\n",
            " [ 5.37808295e-03]\n",
            " [ 2.04052507e-02]\n",
            " [-1.70558729e-02]\n",
            " [ 4.30100385e-02]\n",
            " [-1.93991574e-02]\n",
            " [-1.51582266e-02]\n",
            " [ 2.05971610e-02]\n",
            " [-3.89793441e-03]\n",
            " [-4.94735115e-02]\n",
            " [-6.77599722e-03]\n",
            " [-2.76070985e-02]\n",
            " [-1.18892539e-02]\n",
            " [-1.97524264e-02]\n",
            " [-5.38273832e-02]\n",
            " [-2.88770920e-02]\n",
            " [ 7.25528663e-02]\n",
            " [-4.64185213e-02]\n",
            " [-4.77703894e-02]\n",
            " [-2.78661009e-01]\n",
            " [ 1.52183548e+12]\n",
            " [ 5.44767054e-01]\n",
            " [-6.94425103e-02]\n",
            " [-1.67112946e-01]\n",
            " [-2.92924415e-02]\n",
            " [-8.94789729e-02]\n",
            " [-2.41572310e-02]\n",
            " [-2.22932842e-02]\n",
            " [ 3.37382344e-03]\n",
            " [-2.10655776e-02]\n",
            " [ 8.67958707e-03]\n",
            " [-1.76893432e-02]\n",
            " [ 1.75665266e-02]\n",
            " [-2.63898201e-02]\n",
            " [-4.10314579e-02]\n",
            " [-3.73403609e-03]\n",
            " [-8.31142480e-03]\n",
            " [-1.73092208e-02]\n",
            " [ 2.25575835e-02]\n",
            " [-2.15807063e-03]\n",
            " [-1.28438037e-02]\n",
            " [-7.23331153e-03]\n",
            " [ 2.34857637e-02]\n",
            " [-3.52248005e-03]\n",
            " [ 1.28507416e-02]\n",
            " [-1.21675508e-02]\n",
            " [-6.48201349e-02]\n",
            " [ 6.53108354e-03]\n",
            " [-2.66321210e+11]\n",
            " [-7.06086425e-01]\n",
            " [ 2.45483414e-02]\n",
            " [ 1.55341302e-01]\n",
            " [-6.96721771e-03]\n",
            " [-2.30380514e-02]\n",
            " [-5.77044968e-02]\n",
            " [-4.17895227e-02]\n",
            " [-1.44338280e-02]\n",
            " [-2.08996666e-03]\n",
            " [-3.62702346e-02]\n",
            " [-2.02509199e-02]\n",
            " [ 8.07431311e-03]\n",
            " [ 2.18799326e-02]\n",
            " [-1.67965699e-02]\n",
            " [ 1.57459997e-02]\n",
            " [-3.96108777e-02]\n",
            " [-1.27622098e-02]\n",
            " [-4.62901352e-03]\n",
            " [ 6.06538625e-03]\n",
            " [-7.25619762e-03]\n",
            " [-2.84548331e-02]\n",
            " [ 5.14239430e-02]\n",
            " [ 2.75072321e-03]\n",
            " [-5.08272831e-03]\n",
            " [-4.87803859e-02]\n",
            " [-7.92470960e-02]\n",
            " [-2.52205236e-01]\n",
            " [-1.61184451e+12]\n",
            " [ 1.13979094e-01]\n",
            " [-2.05714466e-01]\n",
            " [ 3.56975965e-02]\n",
            " [ 4.21027711e-02]\n",
            " [-1.93167709e-02]\n",
            " [ 3.89865628e-02]\n",
            " [-1.55606992e-02]\n",
            " [-1.15222759e-02]\n",
            " [-2.20270638e-02]\n",
            " [-1.75307298e-02]\n",
            " [-1.88029901e-02]\n",
            " [-3.08547518e-02]\n",
            " [-4.34457813e-03]\n",
            " [-3.34755289e-02]\n",
            " [-1.23708724e-02]\n",
            " [ 2.32818185e-02]\n",
            " [ 1.40371254e-02]\n",
            " [ 2.56145209e-02]\n",
            " [ 5.57788579e-03]\n",
            " [ 1.79469379e-02]\n",
            " [ 4.03940105e-02]\n",
            " [-5.79051717e-02]\n",
            " [ 2.31985872e-03]\n",
            " [ 5.97989542e-02]\n",
            " [-9.12775549e-02]\n",
            " [-6.50038867e-03]\n",
            " [-2.31054166e-01]\n",
            " [-3.79891815e-01]\n",
            " [-2.29538598e-01]\n",
            " [-1.43270038e-01]\n",
            " [-2.60992272e-02]\n",
            " [ 6.95442962e-02]\n",
            " [-9.58265270e-03]\n",
            " [ 5.90927678e-02]\n",
            " [-2.22871696e-02]\n",
            " [-2.59168708e-02]\n",
            " [ 3.28378571e-03]\n",
            " [-5.13168820e-02]\n",
            " [-7.01196014e-02]\n",
            " [-6.09945691e-03]\n",
            " [-1.51641851e-02]\n",
            " [ 2.29547106e-02]\n",
            " [-1.28645994e-02]\n",
            " [ 1.71663212e-02]\n",
            " [ 2.81979166e-02]\n",
            " [ 2.45930764e-03]\n",
            " [-2.08081518e-03]\n",
            " [ 6.56762893e-03]\n",
            " [-7.43603344e-03]\n",
            " [ 3.14407998e-02]\n",
            " [-1.04891879e-02]\n",
            " [ 1.84957996e-02]\n",
            " [-3.79603818e-02]\n",
            " [ 1.87843361e-02]\n",
            " [-2.16380208e-01]\n",
            " [ 1.69131581e+00]\n",
            " [ 3.21757020e-02]\n",
            " [ 1.44247400e-02]\n",
            " [-1.44236391e-02]\n",
            " [-4.09744575e-03]\n",
            " [ 1.76859161e-02]\n",
            " [ 6.66306490e-02]\n",
            " [ 6.16652011e-03]\n",
            " [ 3.61989917e-02]\n",
            " [-2.19377526e-02]\n",
            " [ 7.46111260e-03]\n",
            " [-8.00195272e-03]\n",
            " [ 1.33899835e-03]\n",
            " [ 3.22344832e-03]\n",
            " [ 1.05149996e-03]\n",
            " [ 2.91299248e-02]\n",
            " [-4.37861226e-03]\n",
            " [-1.21952515e-02]\n",
            " [ 8.70047769e-03]\n",
            " [-1.55226882e-02]\n",
            " [ 2.79320554e-02]\n",
            " [ 2.42409027e-02]\n",
            " [-8.21112603e-03]\n",
            " [ 5.50741964e-04]\n",
            " [ 5.26717456e-02]\n",
            " [-9.74001487e-02]\n",
            " [-1.18435005e-01]\n",
            " [ 6.90859694e-02]\n",
            " [-5.30012163e+11]\n",
            " [-1.76904051e-01]\n",
            " [-1.05942334e-02]\n",
            " [-1.61141061e-02]\n",
            " [ 7.98329054e-04]\n",
            " [ 2.06950164e-02]\n",
            " [ 4.87118560e-02]\n",
            " [-2.28138188e-03]\n",
            " [ 1.84471753e-02]\n",
            " [ 4.27005919e-02]\n",
            " [ 2.33358305e-02]\n",
            " [ 3.87299183e-02]\n",
            " [-2.46982832e-02]\n",
            " [ 1.64940422e-02]\n",
            " [-4.09358246e-02]\n",
            " [-1.09365707e-02]\n",
            " [ 2.28765190e-03]\n",
            " [ 2.17841415e-02]\n",
            " [ 2.66565609e-03]\n",
            " [ 3.80837362e-02]\n",
            " [ 1.06982585e-02]\n",
            " [-4.46811726e-02]\n",
            " [ 3.47303333e-02]\n",
            " [ 5.18671787e-02]\n",
            " [-5.81889427e-02]\n",
            " [ 1.32358297e-02]\n",
            " [ 5.81985983e-02]\n",
            " [ 1.72503007e+00]\n",
            " [-2.19431117e+12]\n",
            " [ 1.88932734e-01]\n",
            " [-4.71799170e-02]\n",
            " [ 3.75784140e-02]\n",
            " [ 1.13660754e-03]\n",
            " [-6.19895231e-03]\n",
            " [-6.12489577e-03]\n",
            " [ 2.81544215e-02]\n",
            " [ 3.51133010e-02]\n",
            " [ 1.56315587e-02]\n",
            " [-1.59596917e-03]\n",
            " [ 1.48771826e-02]\n",
            " [ 3.85024986e-03]\n",
            " [-1.69663554e-02]\n",
            " [ 7.19399108e-03]\n",
            " [-2.51367592e-02]\n",
            " [-1.63566425e-02]\n",
            " [ 2.29016563e-02]\n",
            " [-2.18091986e-02]\n",
            " [-2.58763457e-02]\n",
            " [-9.74043352e-04]\n",
            " [ 8.68659748e-02]\n",
            " [-2.48553096e-03]\n",
            " [ 4.89879815e-02]\n",
            " [-3.30079592e-02]\n",
            " [-5.04151122e-02]\n",
            " [-8.69881126e-02]\n",
            " [-2.73325229e+12]\n",
            " [ 2.26509540e+12]\n",
            " [-8.28544429e-01]\n",
            " [ 2.21959283e-02]\n",
            " [-1.10891816e-01]\n",
            " [ 1.85491329e-02]\n",
            " [ 9.72766718e-03]\n",
            " [-3.67185853e-02]\n",
            " [-2.33550029e-02]\n",
            " [-1.37612689e-02]\n",
            " [ 2.82650262e-02]\n",
            " [-9.59747539e-04]\n",
            " [ 1.49678811e-02]\n",
            " [ 3.17265092e-03]\n",
            " [ 4.99143207e-03]\n",
            " [-2.74424408e-02]\n",
            " [ 1.41196937e-02]\n",
            " [ 2.69812678e-02]\n",
            " [-1.99464423e-02]\n",
            " [ 8.57532839e-02]\n",
            " [ 3.16092045e-02]\n",
            " [ 4.32047541e-02]\n",
            " [-2.97510480e-02]\n",
            " [ 8.56146130e-02]\n",
            " [-6.75953050e-02]\n",
            " [ 5.02320662e-02]\n",
            " [-7.93429380e-02]\n",
            " [-6.72060517e-03]\n",
            " [ 1.48051166e+12]\n",
            " [ 5.86665659e+12]\n",
            " [ 2.23291560e+12]\n",
            " [-6.25030753e-02]\n",
            " [-4.58149572e-02]\n",
            " [ 2.74825273e-02]\n",
            " [ 7.59687800e-02]\n",
            " [-2.01495080e-02]\n",
            " [-4.94893820e-02]\n",
            " [ 2.11231242e-02]\n",
            " [-2.97725503e-02]\n",
            " [ 8.69515856e-03]\n",
            " [ 1.28546249e-02]\n",
            " [-1.04440490e-02]\n",
            " [ 8.75048198e-03]\n",
            " [ 4.11492768e-02]\n",
            " [-3.07691451e-02]\n",
            " [ 1.16935357e-02]\n",
            " [-6.57020663e-03]\n",
            " [-5.52645401e-02]\n",
            " [ 3.06855194e-03]\n",
            " [ 6.44979569e-02]\n",
            " [ 9.80921063e-03]\n",
            " [-1.00977377e-01]\n",
            " [ 2.07769395e-01]\n",
            " [-2.53871651e-01]\n",
            " [ 4.86712549e-01]\n",
            " [ 2.98286265e-01]\n",
            " [ 1.65227512e+12]\n",
            " [ 2.16307447e+12]\n",
            " [ 7.45561865e+12]\n",
            " [-6.09314540e-01]\n",
            " [ 5.31941696e-02]\n",
            " [-1.03591072e-02]\n",
            " [-1.84672842e-02]\n",
            " [-7.28543445e-03]\n",
            " [ 4.93543073e-02]\n",
            " [-3.88295989e-02]\n",
            " [ 6.96785924e-02]\n",
            " [-2.51412607e-02]\n",
            " [ 1.79653334e-03]\n",
            " [ 1.74526605e-02]\n",
            " [ 1.45012675e-03]\n",
            " [ 8.66634146e-03]\n",
            " [ 2.92987276e-03]\n",
            " [-3.82767302e-02]\n",
            " [-1.10538339e-02]\n",
            " [ 1.54482287e-02]\n",
            " [-3.98516523e-02]\n",
            " [-2.28719904e-02]\n",
            " [-3.86509152e-02]\n",
            " [ 9.70247030e-02]\n",
            " [-2.46870182e-01]\n",
            " [ 1.58005063e-01]\n",
            " [-5.72203824e-01]\n",
            " [-9.83178485e+00]\n",
            " [ 7.29311568e+12]\n",
            " [-8.19466219e+12]\n",
            " [-3.26256027e+12]\n",
            " [ 2.13293300e+00]\n",
            " [ 4.63210561e-01]\n",
            " [ 1.08265644e-01]\n",
            " [ 5.24712526e-02]\n",
            " [-4.48173323e-02]\n",
            " [ 7.44951597e-02]\n",
            " [-1.66361961e-02]\n",
            " [ 1.44492641e-02]\n",
            " [ 1.14587725e-02]\n",
            " [ 3.07168222e-02]\n",
            " [ 1.17108363e-02]\n",
            " [ 2.73339068e-02]\n",
            " [-1.44603359e-02]\n",
            " [ 3.63346290e-03]\n",
            " [ 1.17267287e-02]\n",
            " [ 3.95140926e-04]\n",
            " [-1.43657426e-02]\n",
            " [ 3.58157521e-02]\n",
            " [-1.22961706e-01]\n",
            " [ 4.97017615e-02]\n",
            " [-7.45548812e-03]\n",
            " [ 7.78360024e-02]\n",
            " [ 1.03719796e+00]\n",
            " [ 8.37106630e-01]\n",
            " [ 9.01083746e+00]\n",
            " [-6.34529111e+12]\n",
            " [ 1.74448569e+12]\n",
            " [-2.11958556e+12]\n",
            " [ 2.56689480e+12]\n",
            " [-1.38210105e+00]\n",
            " [ 1.08977956e-02]\n",
            " [ 1.38347879e-01]\n",
            " [-6.94472605e-02]\n",
            " [ 3.26834931e-02]\n",
            " [-2.54845501e-02]\n",
            " [-4.18247355e-03]\n",
            " [-7.68931460e-03]\n",
            " [-1.17016281e-02]\n",
            " [-3.27613649e-02]\n",
            " [-2.40007527e-02]\n",
            " [-2.84090907e-02]\n",
            " [-8.09644053e-05]\n",
            " [-3.56173685e-02]\n",
            " [-3.01631323e-02]\n",
            " [-6.01658565e-02]\n",
            " [-4.69223379e-02]\n",
            " [ 9.85929774e-02]\n",
            " [-1.31509714e-01]\n",
            " [ 9.92403483e-03]\n",
            " [ 1.96997178e-01]\n",
            " [-8.28209941e+00]\n",
            " [ 5.87044441e-01]\n",
            " [ 5.39664706e+12]\n",
            " [-2.14200889e+11]\n",
            " [ 1.59347594e+12]\n",
            " [-5.85565568e+12]\n",
            " [-1.88263575e+12]\n",
            " [-5.26208814e+11]\n",
            " [ 1.75917023e+00]\n",
            " [-2.70206808e-01]\n",
            " [ 2.18006552e-01]\n",
            " [-9.92722819e-02]\n",
            " [ 1.52373856e-01]\n",
            " [ 5.57799466e-02]\n",
            " [ 3.47810088e-02]\n",
            " [ 5.15141658e-02]\n",
            " [ 1.65124808e-02]\n",
            " [-4.96721101e-02]\n",
            " [ 3.18288904e-02]\n",
            " [-1.05801858e-01]\n",
            " [ 8.24436788e-04]\n",
            " [-5.37670452e-02]\n",
            " [-5.19237312e-02]\n",
            " [-4.61556572e-03]\n",
            " [-6.60249020e-02]\n",
            " [-2.22493369e-01]\n",
            " [-1.35332873e-01]\n",
            " [ 1.15896036e-01]\n",
            " [-2.70096318e+12]\n",
            " [-3.59018868e+12]\n",
            " [-1.60489335e+12]\n",
            " [ 1.31910809e+12]\n",
            " [-6.23251979e-01]]\n"
          ]
        }
      ]
    },
    {
      "cell_type": "markdown",
      "metadata": {
        "id": "QqVUiwgsKVmC"
      },
      "source": [
        "## (B) Milti-class one versus all"
      ]
    },
    {
      "cell_type": "code",
      "metadata": {
        "id": "HxaUbrKYKVmD",
        "outputId": "517aa978-f71a-44f3-cab1-cb977ae16865"
      },
      "source": [
        "#reload from database, as we have already modified the labels\n",
        "testX = database['testX'] / 255\n",
        "testY = database['testY'] * 1.0\n",
        "trainX = database['trainX'] / 255\n",
        "trainY = database['trainY'] * 1.0\n",
        "trainX.shape"
      ],
      "execution_count": null,
      "outputs": [
        {
          "data": {
            "text/plain": [
              "(60000, 784)"
            ]
          },
          "execution_count": 14,
          "metadata": {},
          "output_type": "execute_result"
        }
      ]
    },
    {
      "cell_type": "markdown",
      "metadata": {
        "id": "-bcFBYbhKVmE"
      },
      "source": [
        "The method used in the secction (a) is not very scalable for the other parts. I will make a class for the binary classifier that is given the labels that correspond to 1, the labels that correspond to -1 and the labels that should be ingnored (usefull feature for section c)"
      ]
    },
    {
      "cell_type": "code",
      "metadata": {
        "id": "hVEJ4nMZKVmE"
      },
      "source": [
        "print_v = 1\n",
        "class  binary_classifier():\n",
        "    def __init__(self, X, Y, pos_lab, neg_lab, labels_to_ignore):\n",
        "        #Remove rows from labels_to_ignore and transform pos_lab to +1 and neg_lab to -1\n",
        "        if print_v != 0:\n",
        "            print(pos_lab, neg_lab, labels_to_ignore)\n",
        "        Y_cpy = np.copy(Y)\n",
        "        X_cpy = np.copy(X)\n",
        "        delete = []\n",
        "        for i in range(Y.shape[1]):\n",
        "            if Y[0][i] in labels_to_ignore:\n",
        "                delete.append(i)\n",
        "            if Y[0][i] in pos_lab:\n",
        "                Y_cpy[0][i] = 1\n",
        "            if Y[0][i] in neg_lab:\n",
        "                Y_cpy[0][i] = -1\n",
        "        X_cpy = np.delete(X_cpy, delete, 0)\n",
        "        Y_cpy = np.delete(Y_cpy, delete, 1)\n",
        "        #Add ones to the X matrix\n",
        "        X_cpy = np.concatenate((X_cpy, np.full((X_cpy.shape[0], 1), 1)), axis = 1)\n",
        "        #Learn parameters\n",
        "        U, E_v, V_T = np.linalg.svd(X_cpy, full_matrices=False)\n",
        "        E_inv = np.matrix([[0 if i != j else 1/E_v[i] for j in range(len(E_v))] for i in range(len(E_v))])\n",
        "        self.alphabeta = V_T.T @ E_inv @ U.T @ Y_cpy.T\n",
        "    def run(self, X):\n",
        "        X_cpy = np.concatenate((X, np.full((X.shape[0], 1), 1)), axis = 1)\n",
        "        Y_hat = X_cpy @ self.alphabeta\n",
        "        return Y_hat"
      ],
      "execution_count": null,
      "outputs": []
    },
    {
      "cell_type": "markdown",
      "metadata": {
        "id": "epRNhCd9KVmG"
      },
      "source": [
        "This multi class clasifier has 10 binary classifiers. Each one is a one vs all classifier (ex. differenciating number 3 agains all others). To do the 'predictions' it runs all 10 classifiers and the the one that gives highes label is the one 'predicted'. The highest label is correlated with the binary classifier beeing more confident."
      ]
    },
    {
      "cell_type": "code",
      "metadata": {
        "id": "0Ox1QPRrKVmH"
      },
      "source": [
        "class multiClass_OneVsAll():\n",
        "    def __init__(self, X, Y):\n",
        "        #train binary classifier\n",
        "        self.BC = []\n",
        "        for i in range(10): #learn all binary classifiers\n",
        "            self.BC.append(binary_classifier(X, Y, [i], [j for j in range(10) if j != i], []))\n",
        "    def run(self, X):\n",
        "        Y_hat = self.BC[0].run(X)\n",
        "        for i in range(1, 10): #run all 10 classifiers\n",
        "            Y_hat = np.concatenate([Y_hat, self.BC[i].run(X)] , axis = 1)\n",
        "        Y_hat = np.argmax(Y_hat, axis = 1) #choose the maximum label\n",
        "        return Y_hat.reshape(1, -1) #reshape so the shape is the same as testY or trainY"
      ],
      "execution_count": null,
      "outputs": []
    },
    {
      "cell_type": "markdown",
      "metadata": {
        "id": "XjbC26-mKVmJ"
      },
      "source": [
        "Lets test the classier"
      ]
    },
    {
      "cell_type": "code",
      "metadata": {
        "id": "yZ2ZlxJQKVmL",
        "outputId": "84fe137c-77cf-4b12-fef5-3a28db224ae1"
      },
      "source": [
        "MC_oneVsAll = multiClass_OneVsAll(trainX, trainY)"
      ],
      "execution_count": null,
      "outputs": [
        {
          "name": "stdout",
          "output_type": "stream",
          "text": [
            "[0] [1, 2, 3, 4, 5, 6, 7, 8, 9] []\n",
            "[1] [0, 2, 3, 4, 5, 6, 7, 8, 9] []\n",
            "[2] [0, 1, 3, 4, 5, 6, 7, 8, 9] []\n",
            "[3] [0, 1, 2, 4, 5, 6, 7, 8, 9] []\n",
            "[4] [0, 1, 2, 3, 5, 6, 7, 8, 9] []\n",
            "[5] [0, 1, 2, 3, 4, 6, 7, 8, 9] []\n",
            "[6] [0, 1, 2, 3, 4, 5, 7, 8, 9] []\n",
            "[7] [0, 1, 2, 3, 4, 5, 6, 8, 9] []\n",
            "[8] [0, 1, 2, 3, 4, 5, 6, 7, 9] []\n",
            "[9] [0, 1, 2, 3, 4, 5, 6, 7, 8] []\n"
          ]
        }
      ]
    },
    {
      "cell_type": "markdown",
      "metadata": {
        "id": "4FC63dvTKVmN"
      },
      "source": [
        "Let's check it works, and gives a reazonable output"
      ]
    },
    {
      "cell_type": "code",
      "metadata": {
        "id": "ssZjYpLdKVmN",
        "outputId": "19954ef1-c20b-404b-b6e0-c5363e4191e6"
      },
      "source": [
        "pred = MC_oneVsAll.run(testX)\n",
        "print(pred.shape)\n",
        "print(pred)"
      ],
      "execution_count": null,
      "outputs": [
        {
          "name": "stdout",
          "output_type": "stream",
          "text": [
            "(1, 10000)\n",
            "[[7 2 1 ... 4 5 6]]\n"
          ]
        }
      ]
    },
    {
      "cell_type": "markdown",
      "metadata": {
        "id": "CpJXjw_9KVmP"
      },
      "source": [
        "## (B) Milti-class one versus one"
      ]
    },
    {
      "cell_type": "markdown",
      "metadata": {
        "id": "WAi_w72tKVmP"
      },
      "source": [
        "This multi class clasifier has 45 binary classifiers. Each one is a one vs one classifier (ex. differenciating number 3 against 5). To do the 'predictions' it runs all 45 classifiers. Each classifier has a 'vote' on which number might be and the number with more votes is the 'predicted' one.\n",
        "\n",
        "My implementation doesn't brake ties in any sofisticated way, but as we will see later it still outperforms the one vs all multi class clasifier"
      ]
    },
    {
      "cell_type": "code",
      "metadata": {
        "id": "l3ZtRP5OKVmQ"
      },
      "source": [
        "class multiClass_OneVsOne():\n",
        "    def __init__(self, X, Y):\n",
        "        #train binary classifier\n",
        "        self.BC = []\n",
        "        for i in range(10):\n",
        "            for j in range(i + 1, 10):\n",
        "                self.BC.append(binary_classifier(X, Y, [i], [j],[k for k in range(10) if k not in [i, j]]))\n",
        "    def run(self, X):\n",
        "        votes = np.zeros((X.shape[0], 10))\n",
        "        k = 0\n",
        "        for i in range(10):\n",
        "            for j in range(i + 1, 10):\n",
        "                pred = self.BC[k].run(X)\n",
        "                k += 1\n",
        "                for l in range(pred.shape[0]):\n",
        "                    if pred[l][0] > 0:\n",
        "                        votes[l][i] += 1\n",
        "                    else:\n",
        "                        votes[l][j] += 1\n",
        "        Y_hat = np.argmax(votes, axis = 1)\n",
        "        return Y_hat.reshape(1, -1)"
      ],
      "execution_count": null,
      "outputs": []
    },
    {
      "cell_type": "code",
      "metadata": {
        "id": "ZaYVjBu0KVmR",
        "outputId": "daf1d341-5276-4fe2-8152-3292aca46a94"
      },
      "source": [
        "MC_oneVsOne = multiClass_OneVsOne(trainX, trainY)"
      ],
      "execution_count": null,
      "outputs": [
        {
          "name": "stdout",
          "output_type": "stream",
          "text": [
            "[0] [1] [2, 3, 4, 5, 6, 7, 8, 9]\n",
            "[0] [2] [1, 3, 4, 5, 6, 7, 8, 9]\n",
            "[0] [3] [1, 2, 4, 5, 6, 7, 8, 9]\n",
            "[0] [4] [1, 2, 3, 5, 6, 7, 8, 9]\n",
            "[0] [5] [1, 2, 3, 4, 6, 7, 8, 9]\n",
            "[0] [6] [1, 2, 3, 4, 5, 7, 8, 9]\n",
            "[0] [7] [1, 2, 3, 4, 5, 6, 8, 9]\n",
            "[0] [8] [1, 2, 3, 4, 5, 6, 7, 9]\n",
            "[0] [9] [1, 2, 3, 4, 5, 6, 7, 8]\n",
            "[1] [2] [0, 3, 4, 5, 6, 7, 8, 9]\n",
            "[1] [3] [0, 2, 4, 5, 6, 7, 8, 9]\n",
            "[1] [4] [0, 2, 3, 5, 6, 7, 8, 9]\n",
            "[1] [5] [0, 2, 3, 4, 6, 7, 8, 9]\n",
            "[1] [6] [0, 2, 3, 4, 5, 7, 8, 9]\n",
            "[1] [7] [0, 2, 3, 4, 5, 6, 8, 9]\n",
            "[1] [8] [0, 2, 3, 4, 5, 6, 7, 9]\n",
            "[1] [9] [0, 2, 3, 4, 5, 6, 7, 8]\n",
            "[2] [3] [0, 1, 4, 5, 6, 7, 8, 9]\n",
            "[2] [4] [0, 1, 3, 5, 6, 7, 8, 9]\n",
            "[2] [5] [0, 1, 3, 4, 6, 7, 8, 9]\n",
            "[2] [6] [0, 1, 3, 4, 5, 7, 8, 9]\n",
            "[2] [7] [0, 1, 3, 4, 5, 6, 8, 9]\n",
            "[2] [8] [0, 1, 3, 4, 5, 6, 7, 9]\n",
            "[2] [9] [0, 1, 3, 4, 5, 6, 7, 8]\n",
            "[3] [4] [0, 1, 2, 5, 6, 7, 8, 9]\n",
            "[3] [5] [0, 1, 2, 4, 6, 7, 8, 9]\n",
            "[3] [6] [0, 1, 2, 4, 5, 7, 8, 9]\n",
            "[3] [7] [0, 1, 2, 4, 5, 6, 8, 9]\n",
            "[3] [8] [0, 1, 2, 4, 5, 6, 7, 9]\n",
            "[3] [9] [0, 1, 2, 4, 5, 6, 7, 8]\n",
            "[4] [5] [0, 1, 2, 3, 6, 7, 8, 9]\n",
            "[4] [6] [0, 1, 2, 3, 5, 7, 8, 9]\n",
            "[4] [7] [0, 1, 2, 3, 5, 6, 8, 9]\n",
            "[4] [8] [0, 1, 2, 3, 5, 6, 7, 9]\n",
            "[4] [9] [0, 1, 2, 3, 5, 6, 7, 8]\n",
            "[5] [6] [0, 1, 2, 3, 4, 7, 8, 9]\n",
            "[5] [7] [0, 1, 2, 3, 4, 6, 8, 9]\n",
            "[5] [8] [0, 1, 2, 3, 4, 6, 7, 9]\n",
            "[5] [9] [0, 1, 2, 3, 4, 6, 7, 8]\n",
            "[6] [7] [0, 1, 2, 3, 4, 5, 8, 9]\n",
            "[6] [8] [0, 1, 2, 3, 4, 5, 7, 9]\n",
            "[6] [9] [0, 1, 2, 3, 4, 5, 7, 8]\n",
            "[7] [8] [0, 1, 2, 3, 4, 5, 6, 9]\n",
            "[7] [9] [0, 1, 2, 3, 4, 5, 6, 8]\n",
            "[8] [9] [0, 1, 2, 3, 4, 5, 6, 7]\n"
          ]
        }
      ]
    },
    {
      "cell_type": "markdown",
      "metadata": {
        "id": "wycFSLf6KVmS"
      },
      "source": [
        "Let's check it works, and gives a reazonable output"
      ]
    },
    {
      "cell_type": "code",
      "metadata": {
        "id": "Cys-n4PuKVmS",
        "outputId": "ce611e68-37dd-4b9c-e3c9-c95bcebdf6f8"
      },
      "source": [
        "pred = MC_oneVsOne.run(testX)\n",
        "print(pred.shape)\n",
        "print(pred)"
      ],
      "execution_count": null,
      "outputs": [
        {
          "name": "stdout",
          "output_type": "stream",
          "text": [
            "(1, 10000)\n",
            "[[7 2 1 ... 4 5 6]]\n"
          ]
        }
      ]
    },
    {
      "cell_type": "markdown",
      "metadata": {
        "id": "8Yor1BmRKVmT"
      },
      "source": [
        "## (d) Evaluate results"
      ]
    },
    {
      "cell_type": "markdown",
      "metadata": {
        "id": "L4PMqNXyKVmU"
      },
      "source": [
        "This is the function that runs the confusion matrix "
      ]
    },
    {
      "cell_type": "code",
      "metadata": {
        "id": "v66hCc3YKVmU"
      },
      "source": [
        "def confusionMatrix(Y, Y_hat):\n",
        "    #calculate the confusion matrix and save it in count\n",
        "    err = 0\n",
        "    count = np.zeros((10, 10))\n",
        "    for i in range(Y.shape[1]):\n",
        "        count[int(Y[0, i]), int(Y_hat[0, i])] += 1\n",
        "        if Y[0, i] != Y_hat[0, i]:\n",
        "            err += 1\n",
        "    #print the results\n",
        "    print(\"\\t\", end = \"\")\n",
        "    for i in range (10):\n",
        "        print(i, end = \"\\t\")\n",
        "    print()\n",
        "    for i in range (10):\n",
        "        print(i, end = \"\\t\")\n",
        "        for j in range (10):\n",
        "            print(int(count[i][j]), end = \"\\t\")\n",
        "        print()\n",
        "    print(\"Total error rate:\", err / Y.shape[1])\n",
        "    return(err / Y.shape[1])"
      ],
      "execution_count": null,
      "outputs": []
    },
    {
      "cell_type": "code",
      "metadata": {
        "id": "6r8hy8Q6KVmV",
        "outputId": "381eda56-3d23-4ff6-bcd9-b61207e423c9"
      },
      "source": [
        "print(\"Training results:\")\n",
        "confusionMatrix(trainY, MC_oneVsAll.run(trainX))\n",
        "print()\n",
        "print(\"Testing results:\")\n",
        "confusionMatrix(testY, MC_oneVsAll.run(testX))"
      ],
      "execution_count": null,
      "outputs": [
        {
          "name": "stdout",
          "output_type": "stream",
          "text": [
            "Training results:\n",
            "\t0\t1\t2\t3\t4\t5\t6\t7\t8\t9\t\n",
            "0\t5684\t7\t17\t13\t22\t43\t63\t6\t62\t6\t\n",
            "1\t2\t6547\t41\t16\t19\t31\t13\t14\t54\t5\t\n",
            "2\t100\t273\t4780\t148\t103\t13\t233\t93\t195\t20\t\n",
            "3\t43\t170\t178\t5149\t32\t121\t54\t120\t142\t122\t\n",
            "4\t12\t105\t41\t8\t5202\t48\t38\t24\t63\t301\t\n",
            "5\t166\t98\t28\t422\t102\t3984\t187\t43\t253\t138\t\n",
            "6\t120\t76\t64\t0\t67\t90\t5462\t0\t37\t2\t\n",
            "7\t55\t185\t36\t45\t145\t9\t3\t5492\t10\t285\t\n",
            "8\t75\t494\t59\t225\t93\t217\t54\t24\t4449\t161\t\n",
            "9\t70\t61\t20\t115\t362\t14\t1\t583\t45\t4678\t\n",
            "Total error rate: 0.14288333333333333\n",
            "\n",
            "Testing results:\n",
            "\t0\t1\t2\t3\t4\t5\t6\t7\t8\t9\t\n",
            "0\t948\t0\t1\t2\t1\t7\t12\t2\t6\t1\t\n",
            "1\t0\t1109\t2\t2\t3\t1\t5\t1\t12\t0\t\n",
            "2\t20\t57\t806\t26\t13\t1\t41\t21\t40\t7\t\n",
            "3\t4\t18\t23\t879\t5\t16\t9\t24\t22\t10\t\n",
            "4\t0\t23\t7\t1\t876\t5\t10\t2\t14\t44\t\n",
            "5\t25\t18\t3\t71\t23\t656\t23\t15\t43\t15\t\n",
            "6\t20\t10\t10\t0\t24\t17\t870\t0\t7\t0\t\n",
            "7\t4\t39\t15\t7\t23\t0\t1\t894\t0\t45\t\n",
            "8\t15\t45\t11\t29\t25\t39\t15\t13\t763\t19\t\n",
            "9\t16\t10\t2\t17\t79\t1\t1\t88\t6\t789\t\n",
            "Total error rate: 0.141\n"
          ]
        },
        {
          "data": {
            "text/plain": [
              "0.141"
            ]
          },
          "execution_count": 42,
          "metadata": {},
          "output_type": "execute_result"
        }
      ]
    },
    {
      "cell_type": "code",
      "metadata": {
        "id": "NQODr_ygKVmW",
        "outputId": "6367474c-c8e5-4339-83ad-f8bca971aa0c"
      },
      "source": [
        "print(\"Training results:\")\n",
        "confusionMatrix(trainY, MC_oneVsOne.run(trainX))\n",
        "print()\n",
        "print(\"Testing results:\")\n",
        "confusionMatrix(testY, MC_oneVsOne.run(testX))"
      ],
      "execution_count": null,
      "outputs": [
        {
          "name": "stdout",
          "output_type": "stream",
          "text": [
            "Training results:\n",
            "\t0\t1\t2\t3\t4\t5\t6\t7\t8\t9\t\n",
            "0\t5812\t3\t15\t8\t11\t21\t20\t4\t29\t0\t\n",
            "1\t1\t6619\t37\t17\t4\t20\t3\t11\t23\t7\t\n",
            "2\t48\t69\t5532\t48\t58\t20\t43\t40\t86\t14\t\n",
            "3\t23\t43\t125\t5507\t6\t213\t20\t52\t100\t42\t\n",
            "4\t15\t20\t17\t2\t5575\t11\t12\t13\t8\t169\t\n",
            "5\t41\t42\t39\t107\t24\t5019\t89\t8\t41\t11\t\n",
            "6\t25\t16\t33\t3\t29\t83\t5697\t0\t31\t1\t\n",
            "7\t6\t79\t54\t7\t67\t14\t0\t5876\t2\t160\t\n",
            "8\t35\t177\t45\t90\t50\t157\t39\t21\t5155\t82\t\n",
            "9\t18\t12\t21\t69\t149\t42\t3\t142\t28\t5465\t\n",
            "Total error rate: 0.06238333333333333\n",
            "\n",
            "Testing results:\n",
            "\t0\t1\t2\t3\t4\t5\t6\t7\t8\t9\t\n",
            "0\t956\t0\t3\t1\t1\t6\t9\t3\t1\t0\t\n",
            "1\t0\t1116\t5\t4\t2\t2\t3\t0\t3\t0\t\n",
            "2\t8\t16\t943\t12\t10\t4\t9\t7\t23\t0\t\n",
            "3\t8\t1\t17\t917\t0\t30\t4\t8\t20\t5\t\n",
            "4\t3\t2\t9\t1\t930\t0\t7\t2\t3\t25\t\n",
            "5\t7\t5\t3\t22\t10\t807\t17\t2\t14\t5\t\n",
            "6\t5\t5\t12\t0\t5\t20\t909\t0\t2\t0\t\n",
            "7\t0\t16\t19\t3\t8\t2\t0\t954\t2\t24\t\n",
            "8\t8\t16\t9\t17\t12\t39\t9\t12\t835\t17\t\n",
            "9\t6\t6\t1\t9\t28\t9\t0\t20\t5\t925\t\n",
            "Total error rate: 0.0708\n"
          ]
        },
        {
          "data": {
            "text/plain": [
              "0.0708"
            ]
          },
          "execution_count": 43,
          "metadata": {},
          "output_type": "execute_result"
        }
      ]
    },
    {
      "cell_type": "markdown",
      "metadata": {
        "id": "EMMq5ETeKVmX"
      },
      "source": [
        "We can see how the one vs one method works much better. The error rate is much lower both in the training data and testing data Makes sense as it uses much more clasifiers (44 vs 10) and they are more specialized as they only have to learn to diferenciate between two numbers.\n",
        "\n",
        "Universaly one of the most problematics mistakes is between 3 and 5 both ways, and 4 and 9 also both ways. The numbers are visualy quite similar, so it makes sense we find more erros there.\n",
        "\n",
        "The error rate between training set and testing set is not much different. Makes sense, because it only does linear combination of the pixel values and it has a lot of trainign data, so it is unlikely to 'over train' and just 'memorize' the training data. We can say it generalizes really well"
      ]
    },
    {
      "cell_type": "code",
      "metadata": {
        "id": "1lat_9vNKVmX"
      },
      "source": [
        "del(MC_oneVsOne, MC_oneVsAll)"
      ],
      "execution_count": null,
      "outputs": []
    },
    {
      "cell_type": "markdown",
      "metadata": {
        "id": "9U47WexhKVmY"
      },
      "source": [
        "# Part 2"
      ]
    },
    {
      "cell_type": "markdown",
      "metadata": {
        "id": "Jxhy523WKVmY"
      },
      "source": [
        "## (a), (b), (c) and (d) Generate random features and test several activation functions"
      ]
    },
    {
      "cell_type": "markdown",
      "metadata": {
        "id": "2SuEEa2xKVmZ"
      },
      "source": [
        "This function will run all test with the non-linear function $h$ and random parameters $W$\n",
        "\n",
        "The random bias $b$ will also be given by matrix $w$ and computed agains the 1 that are concatenated to $X$\n",
        "\n",
        "It runs the same multi-class one vs one classifier, but with the engineered features instead of the raw data"
      ]
    },
    {
      "cell_type": "code",
      "metadata": {
        "id": "3ONua355KVma"
      },
      "source": [
        "def run(trainingX, trainingY, testingX, testingY, W, h):\n",
        "    results = []\n",
        "    X_tr = np.concatenate((trainingX, np.full((trainingX.shape[0], 1), 1)), axis = 1)\n",
        "    X_te = np.concatenate((testingX, np.full((testingX.shape[0], 1), 1)), axis = 1)\n",
        "    MC = multiClass_OneVsOne(h(X_tr @ W), trainingY)\n",
        "    print(\"Training results:\")\n",
        "    results.append(confusionMatrix(trainingY, MC.run(h(X_tr @ W))))\n",
        "    print()\n",
        "    print(\"Testing results:\")\n",
        "    results.append(confusionMatrix(testingY, MC.run(h(X_te @ W))))\n",
        "    return results"
      ],
      "execution_count": null,
      "outputs": []
    },
    {
      "cell_type": "code",
      "metadata": {
        "scrolled": true,
        "id": "a_S6P1l0KVmb",
        "outputId": "ac665f13-448a-40c4-b304-ef315da44c18"
      },
      "source": [
        "import math\n",
        "print_v = 0\n",
        "\n",
        "results = []\n",
        "W = np.random.normal(0, 1, size = (trainX.shape[1] + 1, 1000))\n",
        "print(\"Identity\")\n",
        "h = lambda t: t\n",
        "results.append(run(trainX, trainY, testX, testY, W, h))\n",
        "print(\"Sigmoid\")\n",
        "h = lambda t: 1 / (1 - math.e ** (-t))\n",
        "results.append(run(trainX, trainY, testX, testY, W, h))\n",
        "print(\"Sin\")\n",
        "h = lambda t: np.sin(t)\n",
        "results.append(run(trainX, trainY, testX, testY, W, h))\n",
        "print(\"reLu\")\n",
        "h = lambda t: (t > 0) * t\n",
        "results.append(run(trainX, trainY, testX, testY, W, h))\n",
        "       \n",
        "results = np.array(results)\n",
        "print_v = 1"
      ],
      "execution_count": null,
      "outputs": [
        {
          "name": "stdout",
          "output_type": "stream",
          "text": [
            "Identity\n",
            "Training results:\n",
            "\t0\t1\t2\t3\t4\t5\t6\t7\t8\t9\t\n",
            "0\t5816\t2\t9\t6\t12\t23\t22\t6\t27\t0\t\n",
            "1\t1\t6620\t36\t18\t7\t19\t4\t8\t18\t11\t\n",
            "2\t62\t63\t5541\t46\t62\t14\t41\t34\t86\t9\t\n",
            "3\t52\t42\t125\t5492\t6\t169\t20\t37\t142\t46\t\n",
            "4\t14\t16\t16\t1\t5538\t15\t16\t15\t12\t199\t\n",
            "5\t56\t34\t39\t113\t21\t5044\t66\t6\t29\t13\t\n",
            "6\t31\t16\t35\t2\t30\t100\t5685\t0\t18\t1\t\n",
            "7\t5\t82\t74\t7\t69\t19\t1\t5859\t8\t141\t\n",
            "8\t44\t216\t55\t105\t33\t199\t39\t25\t5071\t64\t\n",
            "9\t18\t16\t26\t78\t133\t39\t3\t130\t39\t5467\t\n",
            "Total error rate: 0.06445\n",
            "\n",
            "Testing results:\n",
            "\t0\t1\t2\t3\t4\t5\t6\t7\t8\t9\t\n",
            "0\t960\t0\t3\t0\t1\t4\t7\t3\t1\t1\t\n",
            "1\t0\t1117\t6\t3\t1\t2\t3\t1\t2\t0\t\n",
            "2\t13\t16\t933\t7\t11\t6\t12\t7\t27\t0\t\n",
            "3\t12\t2\t17\t901\t0\t30\t3\t8\t33\t4\t\n",
            "4\t3\t2\t9\t0\t916\t2\t7\t4\t4\t35\t\n",
            "5\t11\t5\t3\t23\t7\t809\t15\t2\t12\t5\t\n",
            "6\t9\t5\t10\t0\t6\t20\t903\t2\t3\t0\t\n",
            "7\t0\t13\t28\t4\t6\t1\t0\t946\t5\t25\t\n",
            "8\t9\t22\t11\t18\t10\t49\t11\t9\t823\t12\t\n",
            "9\t5\t4\t2\t9\t27\t10\t0\t20\t10\t922\t\n",
            "Total error rate: 0.077\n",
            "Sigmoid\n",
            "Training results:\n",
            "\t0\t1\t2\t3\t4\t5\t6\t7\t8\t9\t\n",
            "0\t3402\t125\t338\t488\t211\t192\t435\t328\t221\t183\t\n",
            "1\t109\t4880\t311\t315\t171\t113\t185\t248\t262\t148\t\n",
            "2\t478\t927\t2306\t492\t333\t120\t495\t351\t287\t169\t\n",
            "3\t435\t786\t527\t2710\t254\t205\t221\t370\t381\t242\t\n",
            "4\t361\t599\t484\t398\t1888\t156\t447\t553\t258\t698\t\n",
            "5\t716\t636\t379\t1013\t350\t746\t329\t491\t433\t328\t\n",
            "6\t566\t640\t730\t332\t404\t145\t2375\t270\t231\t225\t\n",
            "7\t400\t723\t355\t414\t458\t166\t199\t2818\t208\t524\t\n",
            "8\t338\t1212\t446\t862\t398\t178\t297\t432\t1363\t325\t\n",
            "9\t302\t792\t306\t466\t747\t163\t315\t989\t303\t1566\t\n",
            "Total error rate: 0.5991\n",
            "\n",
            "Testing results:\n",
            "\t0\t1\t2\t3\t4\t5\t6\t7\t8\t9\t\n",
            "0\t488\t27\t63\t80\t45\t43\t97\t64\t34\t39\t\n",
            "1\t30\t746\t67\t58\t42\t18\t38\t51\t49\t36\t\n",
            "2\t104\t182\t335\t106\t60\t35\t73\t65\t39\t33\t\n",
            "3\t94\t147\t90\t393\t49\t41\t31\t61\t66\t38\t\n",
            "4\t60\t103\t99\t69\t232\t33\t76\t128\t54\t128\t\n",
            "5\t136\t104\t59\t156\t69\t77\t59\t81\t94\t57\t\n",
            "6\t129\t76\t118\t48\t87\t18\t334\t54\t41\t53\t\n",
            "7\t54\t147\t74\t64\t70\t34\t37\t415\t42\t91\t\n",
            "8\t66\t198\t77\t175\t58\t31\t54\t76\t168\t71\t\n",
            "9\t47\t125\t63\t103\t156\t24\t62\t169\t50\t210\t\n",
            "Total error rate: 0.6602\n",
            "Sin\n",
            "Training results:\n",
            "\t0\t1\t2\t3\t4\t5\t6\t7\t8\t9\t\n",
            "0\t1090\t966\t553\t545\t467\t356\t435\t571\t453\t487\t\n",
            "1\t384\t3635\t361\t369\t325\t263\t318\t426\t307\t354\t\n",
            "2\t546\t942\t1081\t538\t502\t364\t491\t606\t428\t460\t\n",
            "3\t576\t950\t572\t1158\t465\t393\t492\t619\t454\t452\t\n",
            "4\t563\t923\t530\t561\t917\t384\t470\t577\t465\t452\t\n",
            "5\t489\t892\t489\t543\t437\t694\t445\t569\t423\t440\t\n",
            "6\t576\t926\t512\t557\t467\t367\t1002\t590\t441\t480\t\n",
            "7\t575\t953\t554\t613\t489\t363\t503\t1252\t480\t483\t\n",
            "8\t550\t908\t527\t567\t488\t342\t433\t593\t933\t510\t\n",
            "9\t569\t938\t523\t570\t455\t365\t459\t596\t496\t978\t\n",
            "Total error rate: 0.7876666666666666\n",
            "\n",
            "Testing results:\n",
            "\t0\t1\t2\t3\t4\t5\t6\t7\t8\t9\t\n",
            "0\t99\t157\t101\t88\t89\t70\t101\t111\t81\t83\t\n",
            "1\t62\t557\t54\t65\t65\t61\t57\t81\t67\t66\t\n",
            "2\t108\t172\t113\t114\t85\t69\t88\t100\t86\t97\t\n",
            "3\t96\t157\t96\t127\t79\t72\t81\t121\t90\t91\t\n",
            "4\t96\t148\t90\t118\t67\t66\t112\t99\t97\t89\t\n",
            "5\t100\t163\t78\t105\t80\t56\t59\t89\t83\t79\t\n",
            "6\t89\t165\t105\t100\t83\t59\t84\t111\t80\t82\t\n",
            "7\t88\t167\t106\t121\t85\t87\t79\t115\t71\t109\t\n",
            "8\t88\t160\t85\t119\t82\t68\t91\t98\t92\t91\t\n",
            "9\t101\t168\t110\t106\t77\t83\t93\t103\t82\t86\t\n",
            "Total error rate: 0.8604\n",
            "reLu\n",
            "Training results:\n",
            "\t0\t1\t2\t3\t4\t5\t6\t7\t8\t9\t\n",
            "0\t5875\t2\t13\t3\t4\t3\t11\t0\t10\t2\t\n",
            "1\t0\t6690\t20\t7\t4\t1\t0\t6\t8\t6\t\n",
            "2\t13\t6\t5831\t18\t17\t6\t9\t25\t29\t4\t\n",
            "3\t6\t4\t56\t5904\t2\t58\t2\t30\t53\t16\t\n",
            "4\t6\t10\t12\t0\t5725\t2\t9\t10\t6\t62\t\n",
            "5\t20\t6\t8\t51\t7\t5272\t23\t3\t20\t11\t\n",
            "6\t11\t2\t6\t1\t11\t21\t5855\t0\t11\t0\t\n",
            "7\t6\t23\t29\t5\t28\t3\t0\t6107\t5\t59\t\n",
            "8\t7\t18\t23\t28\t16\t36\t12\t8\t5684\t19\t\n",
            "9\t11\t7\t6\t46\t57\t18\t1\t47\t25\t5731\t\n",
            "Total error rate: 0.0221\n",
            "\n",
            "Testing results:\n",
            "\t0\t1\t2\t3\t4\t5\t6\t7\t8\t9\t\n",
            "0\t968\t0\t2\t0\t1\t2\t4\t1\t2\t0\t\n",
            "1\t0\t1124\t2\t3\t0\t1\t1\t1\t3\t0\t\n",
            "2\t6\t0\t996\t3\t5\t2\t3\t8\t8\t1\t\n",
            "3\t0\t0\t9\t968\t0\t12\t0\t6\t10\t5\t\n",
            "4\t1\t0\t4\t0\t956\t1\t3\t2\t3\t12\t\n",
            "5\t5\t1\t1\t11\t1\t861\t8\t1\t2\t1\t\n",
            "6\t5\t3\t2\t0\t5\t5\t934\t0\t4\t0\t\n",
            "7\t0\t7\t14\t1\t6\t1\t0\t986\t2\t11\t\n",
            "8\t3\t0\t5\t11\t3\t4\t3\t4\t937\t4\t\n",
            "9\t4\t5\t2\t7\t15\t8\t1\t8\t5\t954\t\n",
            "Total error rate: 0.0316\n"
          ]
        }
      ]
    },
    {
      "cell_type": "markdown",
      "metadata": {
        "id": "2kiAJbQ0KVmc"
      },
      "source": [
        "In the identity we dont see any improvement or decrement from the original tests. Mathematically makes sense, as it only makes linear combinations of the original data, but the model already learns the best linear combinations, so it doesn't give any new information.\n",
        "\n",
        "We see a remarkable imrpvement with the reLu activation. It makes sense, as it adds new non linear features, which can be usefull.\n",
        "\n",
        "Sigmoid's results are not very good, which is a surprise, as it is used in ML a lot. I can see how it can be usefull for outputs that shoud be 1 or 0, as it capes the output to that. In this case I see how random weight might make the sigmoid activation to be always in a 'saturated' position and not change in only a couple of pixels change\n",
        "\n",
        "The sin function works really bad. Makes sense as it is not one to one and many inputs can give the same output.\n",
        "\n",
        "\n",
        "All generalize somewhat good, that makes sense, as we have many data points in the training data"
      ]
    },
    {
      "cell_type": "code",
      "metadata": {
        "id": "UJatg69jKVmd",
        "outputId": "aa9d4956-c559-44e9-9e84-f57d32bd50ac"
      },
      "source": [
        "print(results[:,0])"
      ],
      "execution_count": null,
      "outputs": [
        {
          "name": "stdout",
          "output_type": "stream",
          "text": [
            "[0.06445    0.5991     0.78766667 0.0221    ]\n"
          ]
        }
      ]
    },
    {
      "cell_type": "code",
      "metadata": {
        "id": "GJKEfabzKVme",
        "outputId": "f71fd6fe-52c3-4e23-c1a8-abaa290855bd"
      },
      "source": [
        "names = [\"Identity\", \"Sigmoid\", \"Sin\", \"reLu\"]\n",
        "plt.bar(names, results[:,0])\n",
        "plt.ylabel(\"Error rate\")\n",
        "plt.show()\n",
        "plt.bar(names, results[:,1])\n",
        "plt.ylabel(\"Error rate\")\n",
        "plt.show()"
      ],
      "execution_count": null,
      "outputs": [
        {
          "data": {
            "image/png": "[encoded data removed]",
            "text/plain": [
              "<Figure size 432x288 with 1 Axes>"
            ]
          },
          "metadata": {
            "needs_background": "light"
          },
          "output_type": "display_data"
        },
        {
          "data": {
            "image/png": "[encoded data removed]",
            "text/plain": [
              "<Figure size 432x288 with 1 Axes>"
            ]
          },
          "metadata": {
            "needs_background": "light"
          },
          "output_type": "display_data"
        }
      ]
    },
    {
      "cell_type": "markdown",
      "metadata": {
        "id": "2u_uCu7DKVmf"
      },
      "source": [
        "## (e) Vary number of featrues"
      ]
    },
    {
      "cell_type": "code",
      "metadata": {
        "id": "saEkygNRKVmg",
        "outputId": "cc18cf7c-4fcc-4be8-f883-598433334294"
      },
      "source": [
        "print_v = 0\n",
        "results = []\n",
        "\n",
        "h = lambda t: (t > 0) * t\n",
        "for i in [1000, 300, 100, 30, 10]:\n",
        "    W = np.random.normal(0, 1, size = (trainX.shape[1] + 1, i))\n",
        "    print(\"reLu with size\", i)\n",
        "    results.append(run(trainX, trainY, testX, testY, W, h))\n",
        "results = np.array(results)\n",
        "\n",
        "print_v = 1"
      ],
      "execution_count": null,
      "outputs": [
        {
          "name": "stdout",
          "output_type": "stream",
          "text": [
            "reLu with size 1000\n",
            "Training results:\n",
            "\t0\t1\t2\t3\t4\t5\t6\t7\t8\t9\t\n",
            "0\t5878\t1\t6\t3\t4\t6\t9\t1\t12\t3\t\n",
            "1\t1\t6682\t26\t3\t7\t0\t3\t6\t10\t4\t\n",
            "2\t11\t10\t5816\t15\t19\t4\t13\t29\t37\t4\t\n",
            "3\t6\t6\t58\t5904\t1\t51\t2\t32\t52\t19\t\n",
            "4\t6\t6\t14\t0\t5737\t1\t9\t8\t3\t58\t\n",
            "5\t18\t7\t11\t93\t14\t5223\t30\t2\t17\t6\t\n",
            "6\t11\t5\t8\t1\t10\t21\t5849\t0\t13\t0\t\n",
            "7\t4\t20\t31\t4\t34\t1\t1\t6112\t10\t48\t\n",
            "8\t8\t16\t21\t43\t18\t37\t17\t9\t5667\t15\t\n",
            "9\t13\t6\t8\t39\t53\t13\t2\t45\t23\t5747\t\n",
            "Total error rate: 0.023083333333333334\n",
            "\n",
            "Testing results:\n",
            "\t0\t1\t2\t3\t4\t5\t6\t7\t8\t9\t\n",
            "0\t968\t0\t2\t0\t0\t3\t4\t2\t1\t0\t\n",
            "1\t0\t1128\t3\t1\t0\t0\t1\t0\t2\t0\t\n",
            "2\t3\t0\t996\t5\t4\t1\t6\t6\t10\t1\t\n",
            "3\t3\t0\t8\t971\t0\t7\t1\t4\t10\t6\t\n",
            "4\t1\t0\t3\t0\t954\t0\t5\t0\t2\t17\t\n",
            "5\t3\t2\t1\t29\t1\t844\t5\t0\t4\t3\t\n",
            "6\t9\t2\t1\t1\t3\t6\t932\t1\t3\t0\t\n",
            "7\t0\t6\t15\t3\t5\t0\t0\t987\t1\t11\t\n",
            "8\t4\t0\t5\t10\t8\t7\t5\t5\t926\t4\t\n",
            "9\t8\t4\t3\t5\t15\t5\t0\t9\t5\t955\t\n",
            "Total error rate: 0.0339\n",
            "reLu with size 300\n",
            "Training results:\n",
            "\t0\t1\t2\t3\t4\t5\t6\t7\t8\t9\t\n",
            "0\t5793\t2\t14\t6\t10\t25\t35\t2\t31\t5\t\n",
            "1\t1\t6617\t37\t18\t7\t13\t7\t11\t20\t11\t\n",
            "2\t46\t26\t5595\t48\t60\t14\t41\t41\t70\t17\t\n",
            "3\t20\t19\t102\t5645\t8\t133\t21\t48\t94\t41\t\n",
            "4\t15\t20\t23\t2\t5560\t6\t25\t17\t12\t162\t\n",
            "5\t31\t24\t35\t120\t29\t5045\t72\t7\t36\t22\t\n",
            "6\t39\t17\t20\t1\t33\t52\t5731\t0\t25\t0\t\n",
            "7\t18\t42\t54\t17\t60\t11\t1\t5928\t6\t128\t\n",
            "8\t23\t66\t66\t101\t36\t94\t38\t19\t5346\t62\t\n",
            "9\t16\t20\t27\t79\t155\t29\t1\t136\t43\t5443\t\n",
            "Total error rate: 0.05495\n",
            "\n",
            "Testing results:\n",
            "\t0\t1\t2\t3\t4\t5\t6\t7\t8\t9\t\n",
            "0\t965\t1\t3\t0\t1\t4\t2\t3\t1\t0\t\n",
            "1\t0\t1121\t3\t3\t2\t1\t3\t0\t2\t0\t\n",
            "2\t12\t2\t958\t8\t11\t3\t12\t9\t16\t1\t\n",
            "3\t2\t0\t12\t950\t1\t23\t0\t8\t10\t4\t\n",
            "4\t2\t1\t6\t0\t935\t0\t7\t3\t2\t26\t\n",
            "5\t7\t2\t2\t24\t6\t819\t14\t3\t11\t4\t\n",
            "6\t10\t3\t9\t1\t7\t11\t915\t0\t2\t0\t\n",
            "7\t0\t8\t21\t5\t9\t2\t0\t960\t3\t20\t\n",
            "8\t7\t1\t16\t14\t9\t17\t13\t4\t886\t7\t\n",
            "9\t6\t6\t2\t9\t35\t9\t1\t14\t10\t917\t\n",
            "Total error rate: 0.0574\n",
            "reLu with size 100\n",
            "Training results:\n",
            "\t0\t1\t2\t3\t4\t5\t6\t7\t8\t9\t\n",
            "0\t5636\t2\t30\t28\t14\t82\t77\t13\t36\t5\t\n",
            "1\t1\t6590\t35\t27\t7\t21\t8\t15\t31\t7\t\n",
            "2\t72\t85\t5120\t76\t109\t83\t146\t115\t109\t43\t\n",
            "3\t63\t61\t127\t5093\t23\t303\t53\t108\t189\t111\t\n",
            "4\t12\t35\t51\t4\t5211\t29\t60\t65\t22\t353\t\n",
            "5\t127\t67\t52\t311\t104\t4398\t169\t23\t115\t55\t\n",
            "6\t63\t31\t95\t12\t62\t133\t5479\t9\t26\t8\t\n",
            "7\t22\t117\t71\t16\t139\t29\t8\t5633\t7\t223\t\n",
            "8\t42\t134\t129\t298\t59\t296\t75\t65\t4611\t142\t\n",
            "9\t32\t37\t26\t81\t328\t85\t10\t277\t41\t5032\t\n",
            "Total error rate: 0.11995\n",
            "\n",
            "Testing results:\n",
            "\t0\t1\t2\t3\t4\t5\t6\t7\t8\t9\t\n",
            "0\t944\t1\t2\t2\t4\t10\t13\t3\t1\t0\t\n",
            "1\t0\t1116\t4\t4\t2\t0\t3\t0\t6\t0\t\n",
            "2\t16\t9\t897\t17\t18\t6\t21\t20\t24\t4\t\n",
            "3\t8\t3\t12\t861\t1\t45\t10\t17\t33\t20\t\n",
            "4\t2\t6\t8\t3\t888\t4\t9\t7\t3\t52\t\n",
            "5\t19\t10\t7\t64\t22\t710\t28\t5\t19\t8\t\n",
            "6\t15\t2\t20\t1\t14\t20\t882\t2\t1\t1\t\n",
            "7\t1\t21\t21\t4\t16\t7\t0\t923\t0\t35\t\n",
            "8\t12\t12\t20\t37\t12\t52\t18\t22\t767\t22\t\n",
            "9\t8\t5\t5\t5\t56\t20\t3\t40\t4\t863\t\n",
            "Total error rate: 0.1149\n",
            "reLu with size 30\n",
            "Training results:\n",
            "\t0\t1\t2\t3\t4\t5\t6\t7\t8\t9\t\n",
            "0\t4133\t7\t199\t481\t116\t349\t303\t64\t96\t175\t\n",
            "1\t4\t6327\t68\t59\t3\t68\t47\t50\t112\t4\t\n",
            "2\t427\t305\t3312\t518\t149\t171\t260\t261\t469\t86\t\n",
            "3\t244\t249\t361\t3865\t73\t334\t238\t181\t367\t219\t\n",
            "4\t145\t66\t105\t147\t3791\t302\t197\t203\t183\t703\t\n",
            "5\t431\t171\t184\t689\t225\t2016\t451\t557\t215\t482\t\n",
            "6\t310\t121\t234\t184\t84\t406\t4312\t42\t170\t55\t\n",
            "7\t172\t178\t89\t137\t110\t278\t31\t4852\t178\t240\t\n",
            "8\t262\t304\t317\t641\t132\t291\t210\t231\t3089\t374\t\n",
            "9\t168\t87\t88\t208\t809\t313\t105\t455\t332\t3384\t\n",
            "Total error rate: 0.34865\n",
            "\n",
            "Testing results:\n",
            "\t0\t1\t2\t3\t4\t5\t6\t7\t8\t9\t\n",
            "0\t695\t1\t31\t66\t12\t62\t64\t13\t13\t23\t\n",
            "1\t0\t1076\t10\t5\t2\t9\t4\t5\t24\t0\t\n",
            "2\t81\t47\t608\t77\t19\t27\t48\t41\t72\t12\t\n",
            "3\t36\t39\t58\t666\t6\t48\t45\t40\t45\t27\t\n",
            "4\t21\t13\t20\t38\t644\t43\t50\t27\t24\t102\t\n",
            "5\t69\t20\t23\t117\t36\t337\t82\t109\t29\t70\t\n",
            "6\t55\t17\t32\t23\t16\t52\t721\t11\t21\t10\t\n",
            "7\t21\t38\t11\t24\t17\t37\t8\t795\t27\t50\t\n",
            "8\t44\t34\t36\t104\t23\t53\t35\t57\t540\t48\t\n",
            "9\t17\t12\t16\t28\t132\t52\t29\t58\t52\t613\t\n",
            "Total error rate: 0.3305\n",
            "reLu with size 10\n",
            "Training results:\n",
            "\t0\t1\t2\t3\t4\t5\t6\t7\t8\t9\t\n",
            "0\t3403\t261\t304\t434\t179\t158\t527\t473\t139\t45\t\n",
            "1\t182\t5902\t157\t181\t0\t13\t76\t144\t50\t37\t\n",
            "2\t756\t1214\t2095\t380\t335\t73\t458\t251\t202\t194\t\n",
            "3\t563\t917\t348\t2430\t95\t210\t401\t541\t331\t295\t\n",
            "4\t414\t150\t375\t222\t2180\t215\t739\t756\t172\t619\t\n",
            "5\t767\t399\t502\t742\t545\t738\t566\t552\t310\t300\t\n",
            "6\t427\t296\t350\t269\t521\t95\t3313\t222\t243\t182\t\n",
            "7\t254\t657\t223\t247\t345\t76\t205\t3837\t100\t321\t\n",
            "8\t660\t1119\t419\t811\t288\t174\t553\t399\t870\t558\t\n",
            "9\t156\t709\t168\t528\t743\t101\t600\t1065\t319\t1560\t\n",
            "Total error rate: 0.5612\n",
            "\n",
            "Testing results:\n",
            "\t0\t1\t2\t3\t4\t5\t6\t7\t8\t9\t\n",
            "0\t557\t30\t64\t79\t26\t26\t87\t80\t25\t6\t\n",
            "1\t25\t1010\t26\t18\t0\t1\t14\t23\t9\t9\t\n",
            "2\t146\t250\t324\t69\t47\t11\t64\t43\t40\t38\t\n",
            "3\t62\t140\t51\t429\t11\t39\t65\t97\t44\t72\t\n",
            "4\t63\t19\t43\t31\t390\t20\t132\t138\t30\t116\t\n",
            "5\t111\t64\t65\t143\t78\t126\t97\t95\t57\t56\t\n",
            "6\t63\t36\t55\t43\t91\t15\t509\t47\t50\t49\t\n",
            "7\t39\t97\t49\t41\t50\t9\t30\t637\t6\t70\t\n",
            "8\t76\t140\t76\t176\t56\t31\t81\t93\t156\t89\t\n",
            "9\t28\t93\t19\t89\t121\t19\t104\t218\t60\t258\t\n",
            "Total error rate: 0.5604\n"
          ]
        }
      ]
    },
    {
      "cell_type": "code",
      "metadata": {
        "id": "KQNe7rFWKVmi",
        "outputId": "6021383c-a9f0-46f1-c069-5f683631676d"
      },
      "source": [
        "plt.plot([1000, 300, 100, 30, 10], results[:,0], label = \"Train\")\n",
        "plt.plot([1000, 300, 100, 30, 10], results[:,1], label = \"Test\")\n",
        "plt.xlabel(\"Number of non linear features\")\n",
        "plt.ylabel(\"Error rate\")\n",
        "plt.legend()\n",
        "plt.show()"
      ],
      "execution_count": null,
      "outputs": [
        {
          "data": {
            "image/png": "[encoded data removed]",
            "text/plain": [
              "<Figure size 432x288 with 1 Axes>"
            ]
          },
          "metadata": {
            "needs_background": "light"
          },
          "output_type": "display_data"
        }
      ]
    },
    {
      "cell_type": "markdown",
      "metadata": {
        "id": "j-cJGnw4KVmj"
      },
      "source": [
        "We can see how reduccing features reduces remarkably the accuracy and makes the model generalize worse."
      ]
    },
    {
      "cell_type": "markdown",
      "metadata": {
        "id": "x5kykfHVKVmk"
      },
      "source": [
        "## (f) Noise"
      ]
    },
    {
      "cell_type": "markdown",
      "metadata": {
        "id": "zcGntnQxKVmk"
      },
      "source": [
        "To do this test I train the model once on the training data, and test the testing data adding a noise vector with increasing standard deviation"
      ]
    },
    {
      "cell_type": "code",
      "metadata": {
        "id": "YDsfnhckKVml",
        "outputId": "54326f8c-8dc2-45fe-97bd-37687665decf"
      },
      "source": [
        "import math\n",
        "print_v = 0\n",
        "\n",
        "results_reLu = []\n",
        "h = lambda t: (t > 0) * t\n",
        "W = np.random.normal(0, 1, size = (trainX.shape[1], 1000))\n",
        "MC = multiClass_OneVsOne(h(trainX @ W), trainY)\n",
        "print(\"Training results:\")\n",
        "confusionMatrix(trainY, MC.run(h(trainX @ W)))\n",
        "print()\n",
        "for i in [0, 0.01, 0.03, 0.1, 0.3, 1]:\n",
        "    print(\"Testing results with noise: \", i)\n",
        "    noise = np.random.normal(0, i, size = (testX.shape[0], testX.shape[1]))\n",
        "    results_reLu.append(confusionMatrix(testY, MC.run(h((testX + noise) @ W))))\n",
        "    plt.imshow(testX[0].reshape(28, 28) + noise[0].reshape(28, 28))\n",
        "    plt.show()\n",
        "    \n",
        "\n",
        "results_sigmoid = []\n",
        "h = lambda t: 1 / (1 - math.e ** (-t))\n",
        "W = np.random.normal(0, 1, size = (trainX.shape[1], 1000))\n",
        "MC = multiClass_OneVsOne(h(trainX @ W), trainY)\n",
        "print(\"Training results:\")\n",
        "confusionMatrix(trainY, MC.run(h(trainX @ W)))\n",
        "print()\n",
        "for i in [0, 0.01, 0.03, 0.1, 0.3, 1]:\n",
        "    print(\"Testing results with noise: \", i)\n",
        "    noise = np.random.normal(0, i, size = (testX.shape[0], testX.shape[1]))\n",
        "    results_sigmoid.append(confusionMatrix(testY, MC.run(h((testX + noise) @ W))))\n",
        "    plt.imshow(testX[0].reshape(28, 28) + noise[0].reshape(28, 28))\n",
        "    plt.show()\n",
        "    \n",
        "\n",
        "\n",
        "results_lin = []\n",
        "h = lambda t: t\n",
        "W = np.random.normal(0, 1, size = (trainX.shape[1], 1000))\n",
        "MC = multiClass_OneVsOne(h(trainX @ W), trainY)\n",
        "print(\"Training results:\")\n",
        "confusionMatrix(trainY, MC.run(h(trainX @ W)))\n",
        "print()\n",
        "for i in [0, 0.01, 0.03, 0.1, 0.3, 1]:\n",
        "    print(\"Testing results with noise: \", i)\n",
        "    noise = np.random.normal(0, i, size = (testX.shape[0], testX.shape[1]))\n",
        "    results_lin.append(confusionMatrix(testY, MC.run(h((testX + noise) @ W))))\n",
        "    plt.imshow(testX[0].reshape(28, 28) + noise[0].reshape(28, 28))\n",
        "    plt.show()\n",
        "    \n",
        "print_v = 1"
      ],
      "execution_count": null,
      "outputs": [
        {
          "name": "stdout",
          "output_type": "stream",
          "text": [
            "Training results:\n",
            "\t0\t1\t2\t3\t4\t5\t6\t7\t8\t9\t\n",
            "0\t5870\t2\t9\t7\t4\t3\t10\t1\t13\t4\t\n",
            "1\t0\t6686\t17\t9\t10\t0\t2\t9\t4\t5\t\n",
            "2\t11\t9\t5834\t19\t18\t7\t6\t23\t28\t3\t\n",
            "3\t3\t5\t68\t5899\t1\t64\t0\t28\t42\t21\t\n",
            "4\t5\t9\t12\t0\t5735\t1\t11\t5\t6\t58\t\n",
            "5\t18\t1\t13\t48\t11\t5270\t35\t1\t17\t7\t\n",
            "6\t12\t6\t7\t0\t12\t22\t5848\t0\t11\t0\t\n",
            "7\t3\t17\t22\t9\t23\t3\t0\t6129\t9\t50\t\n",
            "8\t6\t20\t28\t44\t9\t33\t16\t10\t5664\t21\t\n",
            "9\t17\t8\t5\t42\t58\t17\t2\t49\t28\t5723\t\n",
            "Total error rate: 0.022366666666666667\n",
            "\n",
            "Testing results with noise:  0\n",
            "\t0\t1\t2\t3\t4\t5\t6\t7\t8\t9\t\n",
            "0\t971\t1\t1\t1\t0\t4\t0\t2\t0\t0\t\n",
            "1\t0\t1127\t2\t2\t0\t0\t1\t1\t2\t0\t\n",
            "2\t5\t1\t995\t9\t3\t2\t2\t7\t8\t0\t\n",
            "3\t1\t0\t7\t969\t1\t15\t0\t5\t11\t1\t\n",
            "4\t2\t0\t3\t0\t956\t0\t4\t1\t2\t14\t\n",
            "5\t4\t0\t1\t12\t1\t857\t8\t1\t7\t1\t\n",
            "6\t6\t3\t2\t0\t4\t6\t933\t0\t3\t1\t\n",
            "7\t1\t6\t15\t3\t5\t1\t0\t981\t5\t11\t\n",
            "8\t6\t2\t5\t12\t7\t4\t4\t3\t925\t6\t\n",
            "9\t6\t4\t2\t12\t20\t2\t0\t6\t3\t954\t\n",
            "Total error rate: 0.0332\n"
          ]
        },
        {
          "data": {
            "image/png": "[encoded data removed]",
            "text/plain": [
              "<Figure size 432x288 with 1 Axes>"
            ]
          },
          "metadata": {
            "needs_background": "light"
          },
          "output_type": "display_data"
        },
        {
          "name": "stdout",
          "output_type": "stream",
          "text": [
            "Testing results with noise:  0.01\n",
            "\t0\t1\t2\t3\t4\t5\t6\t7\t8\t9\t\n",
            "0\t970\t1\t3\t1\t0\t3\t0\t2\t0\t0\t\n",
            "1\t0\t1127\t2\t2\t0\t1\t1\t1\t1\t0\t\n",
            "2\t5\t1\t994\t9\t2\t2\t3\t7\t9\t0\t\n",
            "3\t2\t0\t7\t970\t1\t14\t0\t5\t10\t1\t\n",
            "4\t2\t0\t3\t1\t955\t0\t4\t2\t2\t13\t\n",
            "5\t3\t0\t1\t10\t1\t863\t5\t1\t7\t1\t\n",
            "6\t6\t3\t1\t0\t4\t4\t936\t0\t3\t1\t\n",
            "7\t1\t5\t14\t4\t5\t2\t0\t983\t3\t11\t\n",
            "8\t5\t1\t6\t10\t7\t3\t5\t3\t929\t5\t\n",
            "9\t6\t5\t2\t12\t19\t3\t0\t5\t2\t955\t\n",
            "Total error rate: 0.0318\n"
          ]
        },
        {
          "data": {
            "image/png": "[encoded data removed]",
            "text/plain": [
              "<Figure size 432x288 with 1 Axes>"
            ]
          },
          "metadata": {
            "needs_background": "light"
          },
          "output_type": "display_data"
        },
        {
          "name": "stdout",
          "output_type": "stream",
          "text": [
            "Testing results with noise:  0.03\n",
            "\t0\t1\t2\t3\t4\t5\t6\t7\t8\t9\t\n",
            "0\t971\t1\t2\t0\t0\t4\t1\t0\t0\t1\t\n",
            "1\t0\t1127\t2\t1\t1\t0\t1\t0\t3\t0\t\n",
            "2\t5\t1\t995\t8\t3\t2\t3\t7\t8\t0\t\n",
            "3\t0\t0\t9\t967\t1\t17\t0\t5\t10\t1\t\n",
            "4\t2\t0\t2\t0\t956\t0\t4\t1\t2\t15\t\n",
            "5\t4\t0\t2\t12\t1\t858\t6\t1\t7\t1\t\n",
            "6\t9\t3\t2\t0\t4\t7\t928\t0\t5\t0\t\n",
            "7\t0\t7\t13\t2\t6\t2\t1\t978\t4\t15\t\n",
            "8\t8\t0\t4\t10\t5\t5\t3\t5\t928\t6\t\n",
            "9\t6\t4\t2\t10\t23\t3\t0\t5\t4\t952\t\n",
            "Total error rate: 0.034\n"
          ]
        },
        {
          "data": {
            "image/png": "[encoded data removed]",
            "text/plain": [
              "<Figure size 432x288 with 1 Axes>"
            ]
          },
          "metadata": {
            "needs_background": "light"
          },
          "output_type": "display_data"
        },
        {
          "name": "stdout",
          "output_type": "stream",
          "text": [
            "Testing results with noise:  0.1\n",
            "\t0\t1\t2\t3\t4\t5\t6\t7\t8\t9\t\n",
            "0\t961\t1\t5\t0\t1\t7\t3\t2\t0\t0\t\n",
            "1\t0\t1116\t3\t1\t0\t2\t2\t1\t10\t0\t\n",
            "2\t5\t1\t985\t12\t4\t0\t1\t10\t12\t2\t\n",
            "3\t4\t0\t21\t932\t1\t26\t2\t9\t15\t0\t\n",
            "4\t3\t0\t5\t0\t939\t1\t3\t4\t5\t22\t\n",
            "5\t8\t0\t1\t23\t3\t839\t9\t2\t5\t2\t\n",
            "6\t6\t3\t12\t0\t7\t11\t912\t0\t7\t0\t\n",
            "7\t1\t4\t17\t6\t6\t3\t0\t963\t4\t24\t\n",
            "8\t7\t3\t11\t27\t7\t15\t4\t5\t887\t8\t\n",
            "9\t7\t4\t7\t14\t28\t7\t1\t18\t9\t914\t\n",
            "Total error rate: 0.0552\n"
          ]
        },
        {
          "data": {
            "image/png": "[encoded data removed]",
            "text/plain": [
              "<Figure size 432x288 with 1 Axes>"
            ]
          },
          "metadata": {
            "needs_background": "light"
          },
          "output_type": "display_data"
        },
        {
          "name": "stdout",
          "output_type": "stream",
          "text": [
            "Testing results with noise:  0.3\n",
            "\t0\t1\t2\t3\t4\t5\t6\t7\t8\t9\t\n",
            "0\t904\t0\t24\t8\t0\t25\t9\t3\t4\t3\t\n",
            "1\t4\t487\t307\t103\t3\t78\t5\t41\t105\t2\t\n",
            "2\t22\t9\t898\t38\t6\t20\t12\t7\t18\t2\t\n",
            "3\t21\t2\t132\t730\t2\t84\t3\t8\t25\t3\t\n",
            "4\t14\t0\t113\t47\t585\t47\t17\t54\t35\t70\t\n",
            "5\t44\t3\t70\t147\t8\t561\t10\t12\t33\t4\t\n",
            "6\t51\t3\t174\t29\t22\t81\t573\t7\t18\t0\t\n",
            "7\t14\t4\t129\t65\t18\t33\t2\t708\t12\t43\t\n",
            "8\t20\t9\t161\t158\t9\t79\t10\t14\t501\t13\t\n",
            "9\t14\t4\t82\t115\t148\t93\t3\t126\t58\t366\t\n",
            "Total error rate: 0.3687\n"
          ]
        },
        {
          "data": {
            "image/png": "[encoded data removed]",
            "text/plain": [
              "<Figure size 432x288 with 1 Axes>"
            ]
          },
          "metadata": {
            "needs_background": "light"
          },
          "output_type": "display_data"
        },
        {
          "name": "stdout",
          "output_type": "stream",
          "text": [
            "Testing results with noise:  1\n",
            "\t0\t1\t2\t3\t4\t5\t6\t7\t8\t9\t\n",
            "0\t552\t1\t200\t62\t5\t112\t19\t26\t2\t1\t\n",
            "1\t53\t29\t552\t148\t5\t261\t8\t61\t12\t6\t\n",
            "2\t118\t6\t663\t91\t7\t106\t13\t21\t5\t2\t\n",
            "3\t108\t2\t384\t297\t2\t163\t11\t32\t9\t2\t\n",
            "4\t77\t3\t388\t123\t67\t190\t23\t93\t6\t12\t\n",
            "5\t144\t5\t261\t133\t5\t288\t8\t40\t7\t1\t\n",
            "6\t135\t2\t422\t82\t17\t178\t70\t48\t2\t2\t\n",
            "7\t89\t2\t340\t140\t6\t184\t7\t252\t2\t6\t\n",
            "8\t87\t4\t396\t187\t8\t220\t11\t33\t22\t6\t\n",
            "9\t81\t4\t340\t158\t33\t208\t12\t145\t6\t22\t\n",
            "Total error rate: 0.7738\n"
          ]
        },
        {
          "data": {
            "image/png": "[encoded data removed]",
            "text/plain": [
              "<Figure size 432x288 with 1 Axes>"
            ]
          },
          "metadata": {
            "needs_background": "light"
          },
          "output_type": "display_data"
        },
        {
          "name": "stdout",
          "output_type": "stream",
          "text": [
            "Training results:\n",
            "\t0\t1\t2\t3\t4\t5\t6\t7\t8\t9\t\n",
            "0\t3450\t204\t374\t490\t175\t217\t370\t292\t195\t156\t\n",
            "1\t160\t4873\t349\t322\t140\t131\t172\t230\t218\t147\t\n",
            "2\t577\t871\t2158\t603\t312\t129\t473\t381\t284\t170\t\n",
            "3\t539\t781\t460\t2749\t211\t176\t256\t367\t383\t209\t\n",
            "4\t398\t467\t462\t381\t1905\t161\t351\t721\t286\t710\t\n",
            "5\t767\t613\t375\t953\t345\t773\t337\t476\t465\t317\t\n",
            "6\t633\t606\t747\t404\t426\t143\t2206\t248\t245\t260\t\n",
            "7\t412\t678\t375\t431\t480\t159\t219\t2770\t235\t506\t\n",
            "8\t427\t1147\t452\t833\t346\t186\t290\t470\t1347\t353\t\n",
            "9\t382\t595\t353\t458\t852\t183\t266\t1056\t304\t1500\t\n",
            "Total error rate: 0.6044833333333334\n",
            "\n",
            "Testing results with noise:  0\n",
            "\t0\t1\t2\t3\t4\t5\t6\t7\t8\t9\t\n",
            "0\t494\t42\t65\t93\t29\t44\t82\t45\t47\t39\t\n",
            "1\t33\t705\t83\t76\t38\t21\t42\t54\t51\t32\t\n",
            "2\t104\t182\t313\t105\t61\t23\t86\t72\t58\t28\t\n",
            "3\t90\t136\t80\t365\t34\t58\t47\t79\t79\t42\t\n",
            "4\t67\t87\t79\t66\t253\t34\t71\t134\t60\t131\t\n",
            "5\t115\t104\t79\t180\t70\t86\t47\t81\t84\t46\t\n",
            "6\t118\t101\t129\t67\t79\t26\t312\t45\t43\t38\t\n",
            "7\t69\t122\t69\t78\t86\t26\t50\t379\t48\t101\t\n",
            "8\t93\t186\t76\t146\t57\t35\t65\t86\t165\t65\t\n",
            "9\t69\t104\t62\t79\t149\t41\t54\t204\t55\t192\t\n",
            "Total error rate: 0.6736\n"
          ]
        },
        {
          "data": {
            "image/png": "[encoded data removed]",
            "text/plain": [
              "<Figure size 432x288 with 1 Axes>"
            ]
          },
          "metadata": {
            "needs_background": "light"
          },
          "output_type": "display_data"
        },
        {
          "name": "stdout",
          "output_type": "stream",
          "text": [
            "Testing results with noise:  0.01\n",
            "\t0\t1\t2\t3\t4\t5\t6\t7\t8\t9\t\n",
            "0\t488\t43\t82\t84\t34\t48\t86\t49\t41\t25\t\n",
            "1\t45\t717\t72\t69\t34\t29\t33\t49\t51\t36\t\n",
            "2\t99\t176\t323\t118\t52\t28\t79\t67\t52\t38\t\n",
            "3\t96\t138\t86\t374\t26\t48\t48\t84\t67\t43\t\n",
            "4\t92\t85\t80\t71\t271\t34\t64\t133\t34\t118\t\n",
            "5\t134\t110\t74\t166\t68\t72\t68\t78\t72\t50\t\n",
            "6\t129\t90\t144\t69\t72\t29\t294\t44\t46\t41\t\n",
            "7\t74\t114\t64\t87\t92\t23\t37\t391\t54\t92\t\n",
            "8\t73\t170\t86\t173\t58\t23\t60\t98\t166\t67\t\n",
            "9\t66\t94\t45\t91\t147\t41\t51\t198\t71\t205\t\n",
            "Total error rate: 0.6699\n"
          ]
        },
        {
          "data": {
            "image/png": "[encoded data removed]",
            "text/plain": [
              "<Figure size 432x288 with 1 Axes>"
            ]
          },
          "metadata": {
            "needs_background": "light"
          },
          "output_type": "display_data"
        },
        {
          "name": "stdout",
          "output_type": "stream",
          "text": [
            "Testing results with noise:  0.03\n",
            "\t0\t1\t2\t3\t4\t5\t6\t7\t8\t9\t\n",
            "0\t487\t36\t87\t88\t32\t38\t77\t66\t42\t27\t\n",
            "1\t31\t741\t78\t64\t33\t28\t31\t49\t42\t38\t\n",
            "2\t122\t197\t292\t107\t54\t30\t87\t63\t47\t33\t\n",
            "3\t101\t140\t88\t404\t33\t43\t40\t61\t66\t34\t\n",
            "4\t76\t95\t65\t58\t226\t35\t78\t134\t50\t165\t\n",
            "5\t124\t106\t68\t169\t46\t80\t65\t102\t80\t52\t\n",
            "6\t119\t93\t154\t69\t69\t23\t301\t44\t37\t49\t\n",
            "7\t71\t141\t62\t89\t72\t40\t57\t391\t39\t66\t\n",
            "8\t80\t195\t69\t168\t46\t20\t68\t81\t164\t83\t\n",
            "9\t65\t84\t67\t83\t142\t25\t58\t186\t69\t230\t\n",
            "Total error rate: 0.6684\n"
          ]
        },
        {
          "data": {
            "image/png": "[encoded data removed]",
            "text/plain": [
              "<Figure size 432x288 with 1 Axes>"
            ]
          },
          "metadata": {
            "needs_background": "light"
          },
          "output_type": "display_data"
        },
        {
          "name": "stdout",
          "output_type": "stream",
          "text": [
            "Testing results with noise:  0.1\n",
            "\t0\t1\t2\t3\t4\t5\t6\t7\t8\t9\t\n",
            "0\t521\t32\t65\t85\t34\t41\t75\t61\t32\t34\t\n",
            "1\t34\t706\t78\t84\t36\t28\t45\t48\t44\t32\t\n",
            "2\t87\t186\t320\t111\t48\t28\t92\t62\t69\t29\t\n",
            "3\t94\t113\t84\t401\t38\t38\t47\t64\t91\t40\t\n",
            "4\t73\t85\t82\t74\t235\t41\t72\t149\t40\t131\t\n",
            "5\t138\t96\t66\t163\t47\t89\t65\t96\t76\t56\t\n",
            "6\t120\t80\t131\t84\t72\t27\t303\t61\t35\t45\t\n",
            "7\t67\t111\t79\t93\t96\t26\t57\t368\t41\t90\t\n",
            "8\t82\t173\t77\t171\t66\t37\t59\t89\t153\t67\t\n",
            "9\t78\t98\t61\t84\t147\t38\t49\t198\t60\t196\t\n",
            "Total error rate: 0.6708\n"
          ]
        },
        {
          "data": {
            "image/png": "[encoded data removed]",
            "text/plain": [
              "<Figure size 432x288 with 1 Axes>"
            ]
          },
          "metadata": {
            "needs_background": "light"
          },
          "output_type": "display_data"
        },
        {
          "name": "stdout",
          "output_type": "stream",
          "text": [
            "Testing results with noise:  0.3\n",
            "\t0\t1\t2\t3\t4\t5\t6\t7\t8\t9\t\n",
            "0\t419\t40\t100\t78\t45\t68\t72\t92\t32\t34\t\n",
            "1\t47\t473\t160\t107\t48\t67\t45\t98\t53\t37\t\n",
            "2\t74\t134\t333\t120\t66\t49\t81\t77\t64\t34\t\n",
            "3\t104\t104\t97\t340\t32\t68\t60\t83\t73\t49\t\n",
            "4\t62\t65\t126\t87\t237\t56\t57\t134\t43\t115\t\n",
            "5\t124\t87\t96\t149\t78\t116\t51\t98\t64\t29\t\n",
            "6\t118\t64\t194\t65\t80\t57\t236\t70\t24\t50\t\n",
            "7\t70\t87\t119\t81\t97\t60\t52\t351\t43\t68\t\n",
            "8\t80\t135\t119\t152\t62\t58\t61\t93\t165\t49\t\n",
            "9\t69\t67\t103\t87\t175\t52\t55\t215\t48\t138\t\n",
            "Total error rate: 0.7192\n"
          ]
        },
        {
          "data": {
            "image/png": "[encoded data removed]",
            "text/plain": [
              "<Figure size 432x288 with 1 Axes>"
            ]
          },
          "metadata": {
            "needs_background": "light"
          },
          "output_type": "display_data"
        },
        {
          "name": "stdout",
          "output_type": "stream",
          "text": [
            "Testing results with noise:  1\n",
            "\t0\t1\t2\t3\t4\t5\t6\t7\t8\t9\t\n",
            "0\t151\t12\t270\t71\t38\t247\t30\t114\t29\t18\t\n",
            "1\t38\t77\t423\t76\t36\t246\t31\t162\t29\t17\t\n",
            "2\t49\t35\t492\t61\t38\t150\t26\t126\t32\t23\t\n",
            "3\t46\t31\t297\t167\t32\t229\t27\t122\t40\t19\t\n",
            "4\t36\t27\t230\t67\t124\t210\t35\t198\t27\t28\t\n",
            "5\t56\t16\t219\t79\t55\t280\t14\t126\t28\t19\t\n",
            "6\t53\t23\t350\t48\t73\t157\t80\t127\t18\t29\t\n",
            "7\t37\t31\t239\t66\t71\t202\t16\t326\t20\t20\t\n",
            "8\t52\t33\t272\t88\t65\t213\t32\t138\t55\t26\t\n",
            "9\t40\t23\t225\t59\t111\t205\t25\t252\t23\t46\t\n",
            "Total error rate: 0.8202\n"
          ]
        },
        {
          "data": {
            "image/png": "[encoded data removed]",
            "text/plain": [
              "<Figure size 432x288 with 1 Axes>"
            ]
          },
          "metadata": {
            "needs_background": "light"
          },
          "output_type": "display_data"
        },
        {
          "name": "stdout",
          "output_type": "stream",
          "text": [
            "Training results:\n",
            "\t0\t1\t2\t3\t4\t5\t6\t7\t8\t9\t\n",
            "0\t5824\t2\t10\t8\t13\t19\t11\t7\t28\t1\t\n",
            "1\t2\t6623\t35\t22\t9\t12\t6\t10\t15\t8\t\n",
            "2\t59\t99\t5473\t43\t66\t15\t43\t65\t83\t12\t\n",
            "3\t27\t59\t136\t5556\t9\t134\t25\t53\t99\t33\t\n",
            "4\t14\t23\t21\t1\t5602\t6\t11\t15\t7\t142\t\n",
            "5\t50\t52\t42\t183\t41\t4865\t105\t7\t40\t36\t\n",
            "6\t52\t13\t37\t3\t45\t78\t5675\t0\t15\t0\t\n",
            "7\t6\t75\t45\t7\t81\t4\t1\t5856\t2\t188\t\n",
            "8\t38\t237\t72\t128\t52\t158\t49\t24\t5025\t68\t\n",
            "9\t23\t19\t14\t95\t202\t16\t2\t122\t38\t5418\t\n",
            "Total error rate: 0.06805\n",
            "\n",
            "Testing results with noise:  0\n",
            "\t0\t1\t2\t3\t4\t5\t6\t7\t8\t9\t\n",
            "0\t963\t0\t2\t0\t2\t5\t4\t3\t1\t0\t\n",
            "1\t0\t1120\t2\t3\t3\t1\t5\t0\t1\t0\t\n",
            "2\t14\t19\t923\t7\t11\t5\t12\t15\t26\t0\t\n",
            "3\t8\t2\t21\t922\t5\t18\t4\t10\t17\t3\t\n",
            "4\t3\t1\t9\t0\t932\t0\t7\t4\t3\t23\t\n",
            "5\t8\t6\t2\t42\t17\t775\t16\t4\t15\t7\t\n",
            "6\t16\t4\t13\t0\t5\t20\t898\t0\t2\t0\t\n",
            "7\t0\t17\t18\t3\t11\t1\t0\t947\t1\t30\t\n",
            "8\t7\t27\t11\t20\t16\t42\t9\t11\t817\t14\t\n",
            "9\t6\t4\t3\t12\t37\t6\t0\t20\t11\t910\t\n",
            "Total error rate: 0.0793\n"
          ]
        },
        {
          "data": {
            "image/png": "[encoded data removed]",
            "text/plain": [
              "<Figure size 432x288 with 1 Axes>"
            ]
          },
          "metadata": {
            "needs_background": "light"
          },
          "output_type": "display_data"
        },
        {
          "name": "stdout",
          "output_type": "stream",
          "text": [
            "Testing results with noise:  0.01\n",
            "\t0\t1\t2\t3\t4\t5\t6\t7\t8\t9\t\n",
            "0\t206\t102\t119\t86\t117\t65\t86\t80\t63\t56\t\n",
            "1\t244\t110\t157\t81\t137\t53\t102\t122\t71\t58\t\n",
            "2\t221\t113\t115\t80\t140\t63\t84\t91\t43\t82\t\n",
            "3\t220\t115\t115\t78\t145\t56\t70\t104\t60\t47\t\n",
            "4\t206\t105\t130\t102\t115\t48\t91\t75\t57\t53\t\n",
            "5\t197\t100\t94\t75\t112\t51\t67\t92\t54\t50\t\n",
            "6\t235\t117\t120\t71\t111\t48\t94\t67\t51\t44\t\n",
            "7\t157\t141\t133\t86\t138\t63\t82\t108\t52\t68\t\n",
            "8\t236\t109\t119\t72\t113\t50\t70\t98\t46\t61\t\n",
            "9\t166\t148\t120\t88\t124\t58\t97\t88\t66\t54\t\n",
            "Total error rate: 0.9023\n"
          ]
        },
        {
          "data": {
            "image/png": "[encoded data removed]",
            "text/plain": [
              "<Figure size 432x288 with 1 Axes>"
            ]
          },
          "metadata": {
            "needs_background": "light"
          },
          "output_type": "display_data"
        },
        {
          "name": "stdout",
          "output_type": "stream",
          "text": [
            "Testing results with noise:  0.03\n",
            "\t0\t1\t2\t3\t4\t5\t6\t7\t8\t9\t\n",
            "0\t207\t106\t123\t71\t110\t56\t85\t100\t60\t62\t\n",
            "1\t235\t107\t131\t106\t142\t81\t105\t104\t60\t64\t\n",
            "2\t228\t119\t139\t72\t133\t51\t83\t95\t62\t50\t\n",
            "3\t213\t115\t113\t80\t118\t74\t81\t100\t63\t53\t\n",
            "4\t210\t99\t117\t60\t120\t65\t86\t103\t58\t64\t\n",
            "5\t202\t78\t109\t81\t128\t48\t62\t93\t51\t40\t\n",
            "6\t219\t114\t126\t79\t112\t55\t69\t79\t47\t58\t\n",
            "7\t169\t147\t134\t85\t124\t63\t84\t98\t62\t62\t\n",
            "8\t214\t91\t130\t79\t120\t57\t76\t93\t60\t54\t\n",
            "9\t179\t109\t132\t92\t136\t58\t79\t97\t64\t63\t\n",
            "Total error rate: 0.9009\n"
          ]
        },
        {
          "data": {
            "image/png": "[encoded data removed]",
            "text/plain": [
              "<Figure size 432x288 with 1 Axes>"
            ]
          },
          "metadata": {
            "needs_background": "light"
          },
          "output_type": "display_data"
        },
        {
          "name": "stdout",
          "output_type": "stream",
          "text": [
            "Testing results with noise:  0.1\n",
            "\t0\t1\t2\t3\t4\t5\t6\t7\t8\t9\t\n",
            "0\t215\t99\t130\t75\t114\t66\t80\t88\t60\t53\t\n",
            "1\t240\t123\t144\t96\t157\t70\t79\t111\t47\t68\t\n",
            "2\t273\t129\t96\t78\t106\t56\t80\t92\t65\t57\t\n",
            "3\t211\t116\t132\t89\t119\t52\t79\t102\t54\t56\t\n",
            "4\t211\t104\t122\t78\t110\t58\t98\t94\t64\t43\t\n",
            "5\t201\t104\t102\t59\t102\t52\t82\t84\t50\t56\t\n",
            "6\t223\t126\t109\t78\t124\t58\t69\t84\t36\t51\t\n",
            "7\t187\t133\t140\t94\t112\t61\t81\t100\t69\t51\t\n",
            "8\t238\t116\t117\t68\t112\t59\t66\t94\t55\t49\t\n",
            "9\t179\t119\t122\t98\t135\t57\t89\t94\t66\t50\t\n",
            "Total error rate: 0.9041\n"
          ]
        },
        {
          "data": {
            "image/png": "[encoded data removed]",
            "text/plain": [
              "<Figure size 432x288 with 1 Axes>"
            ]
          },
          "metadata": {
            "needs_background": "light"
          },
          "output_type": "display_data"
        },
        {
          "name": "stdout",
          "output_type": "stream",
          "text": [
            "Testing results with noise:  0.3\n",
            "\t0\t1\t2\t3\t4\t5\t6\t7\t8\t9\t\n",
            "0\t227\t106\t99\t77\t107\t65\t85\t80\t73\t61\t\n",
            "1\t265\t126\t128\t90\t119\t66\t110\t90\t72\t69\t\n",
            "2\t234\t122\t141\t81\t125\t54\t89\t82\t47\t57\t\n",
            "3\t226\t125\t113\t79\t135\t62\t82\t89\t61\t38\t\n",
            "4\t232\t127\t115\t78\t115\t55\t84\t83\t46\t47\t\n",
            "5\t173\t98\t122\t74\t122\t50\t85\t72\t52\t44\t\n",
            "6\t211\t113\t111\t59\t123\t41\t90\t86\t71\t53\t\n",
            "7\t235\t104\t122\t67\t134\t62\t86\t108\t58\t52\t\n",
            "8\t216\t116\t119\t76\t117\t52\t66\t99\t59\t54\t\n",
            "9\t202\t118\t130\t86\t123\t54\t81\t97\t58\t60\t\n",
            "Total error rate: 0.8945\n"
          ]
        },
        {
          "data": {
            "image/png": "[encoded data removed]",
            "text/plain": [
              "<Figure size 432x288 with 1 Axes>"
            ]
          },
          "metadata": {
            "needs_background": "light"
          },
          "output_type": "display_data"
        },
        {
          "name": "stdout",
          "output_type": "stream",
          "text": [
            "Testing results with noise:  1\n",
            "\t0\t1\t2\t3\t4\t5\t6\t7\t8\t9\t\n",
            "0\t205\t114\t126\t69\t118\t73\t81\t86\t56\t52\t\n",
            "1\t249\t125\t131\t97\t140\t58\t105\t114\t59\t57\t\n",
            "2\t208\t130\t115\t85\t130\t53\t85\t104\t62\t60\t\n",
            "3\t213\t98\t136\t78\t134\t62\t84\t101\t44\t60\t\n",
            "4\t224\t107\t112\t73\t117\t68\t69\t90\t57\t65\t\n",
            "5\t191\t117\t103\t73\t99\t48\t87\t83\t47\t44\t\n",
            "6\t209\t107\t109\t79\t130\t53\t72\t96\t54\t49\t\n",
            "7\t239\t116\t110\t99\t118\t56\t80\t88\t55\t67\t\n",
            "8\t213\t89\t127\t92\t118\t61\t82\t80\t65\t47\t\n",
            "9\t223\t134\t112\t80\t132\t54\t82\t87\t63\t42\t\n",
            "Total error rate: 0.9045\n"
          ]
        },
        {
          "data": {
            "image/png": "[encoded data removed]",
            "text/plain": [
              "<Figure size 432x288 with 1 Axes>"
            ]
          },
          "metadata": {
            "needs_background": "light"
          },
          "output_type": "display_data"
        }
      ]
    },
    {
      "cell_type": "code",
      "metadata": {
        "id": "FrmvFI2DKVmm",
        "outputId": "cd1c0813-3b37-42dd-e8b0-a4f590d3e45d"
      },
      "source": [
        "plt.plot([0, 0.01, 0.03, 0.1, 0.3, 1], results_reLu, label = \"reLu\")\n",
        "plt.ylabel(\"Error rate\")\n",
        "plt.legend()\n",
        "plt.show()\n",
        "\n",
        "plt.plot([0, 0.01, 0.03, 0.1, 0.3, 1], results_sigmoid, label = \"Sigmoid\")\n",
        "plt.ylabel(\"Error rate\")\n",
        "plt.legend()\n",
        "plt.show()\n",
        "\n",
        "plt.plot([0, 0.01, 0.03, 0.1, 0.3, 1], results_lin, label = \"Linear\")\n",
        "plt.ylabel(\"Error rate\")\n",
        "plt.legend()\n",
        "plt.show()\n",
        "\n",
        "plt.plot([0, 0.01, 0.03, 0.1, 0.3, 1], results_reLu, label = \"reLu\")\n",
        "plt.plot([0, 0.01, 0.03, 0.1, 0.3, 1], results_sigmoid, label = \"Sigmoid\")\n",
        "plt.plot([0, 0.01, 0.03, 0.1, 0.3, 1], results_lin, label = \"Linear\")\n",
        "plt.ylabel(\"Error rate\")\n",
        "plt.legend()\n",
        "plt.show()"
      ],
      "execution_count": null,
      "outputs": [
        {
          "data": {
            "image/png": "[encoded data removed]",
            "text/plain": [
              "<Figure size 432x288 with 1 Axes>"
            ]
          },
          "metadata": {
            "needs_background": "light"
          },
          "output_type": "display_data"
        },
        {
          "data": {
            "image/png": "[encoded data removed]",
            "text/plain": [
              "<Figure size 432x288 with 1 Axes>"
            ]
          },
          "metadata": {
            "needs_background": "light"
          },
          "output_type": "display_data"
        },
        {
          "data": {
            "image/png": "[encoded data removed]",
            "text/plain": [
              "<Figure size 432x288 with 1 Axes>"
            ]
          },
          "metadata": {
            "needs_background": "light"
          },
          "output_type": "display_data"
        },
        {
          "data": {
            "image/png": "[encoded data removed]",
            "text/plain": [
              "<Figure size 432x288 with 1 Axes>"
            ]
          },
          "metadata": {
            "needs_background": "light"
          },
          "output_type": "display_data"
        }
      ]
    },
    {
      "cell_type": "markdown",
      "metadata": {
        "id": "uPmwZmGJKVmn"
      },
      "source": [
        "I repeat the test with linear, but with an $L = 100$"
      ]
    },
    {
      "cell_type": "code",
      "metadata": {
        "id": "KMF3nIohKVmn",
        "outputId": "1fc72243-c079-4b13-897d-ba2700d847cc"
      },
      "source": [
        "print_v = 0\n",
        "results_lin2 = []\n",
        "h = lambda t: t\n",
        "W = np.random.normal(0, 1, size = (trainX.shape[1], 100))\n",
        "MC = multiClass_OneVsOne(h(trainX @ W), trainY)\n",
        "print(\"Training results:\")\n",
        "confusionMatrix(trainY, MC.run(h(trainX @ W)))\n",
        "print()\n",
        "for i in [0, 0.01, 0.03, 0.1, 0.3, 1]:\n",
        "    print(\"Testing results with noise: \", i)\n",
        "    noise = np.random.normal(0, i, size = (testX.shape[0], testX.shape[1]))\n",
        "    results_lin2.append(confusionMatrix(testY, MC.run(h((testX + noise) @ W))))\n",
        "    plt.imshow(testX[0].reshape(28, 28) + noise[0].reshape(28, 28))\n",
        "    plt.show()\n",
        "    \n",
        "print_v = 1"
      ],
      "execution_count": null,
      "outputs": [
        {
          "name": "stdout",
          "output_type": "stream",
          "text": [
            "Training results:\n",
            "\t0\t1\t2\t3\t4\t5\t6\t7\t8\t9\t\n",
            "0\t5743\t2\t18\t13\t16\t43\t42\t9\t34\t3\t\n",
            "1\t2\t6601\t37\t35\t5\t18\t3\t15\t21\t5\t\n",
            "2\t65\t121\t5225\t77\t82\t41\t113\t80\t125\t29\t\n",
            "3\t42\t68\t125\t5293\t17\t300\t38\t61\t115\t72\t\n",
            "4\t14\t48\t22\t12\t5368\t21\t44\t37\t13\t263\t\n",
            "5\t67\t96\t22\t190\t62\t4730\t124\t26\t64\t40\t\n",
            "6\t35\t29\t53\t6\t42\t82\t5642\t3\t26\t0\t\n",
            "7\t14\t107\t68\t14\t99\t25\t1\t5724\t17\t196\t\n",
            "8\t27\t296\t73\t161\t52\t232\t67\t27\t4793\t123\t\n",
            "9\t36\t34\t20\t90\t253\t51\t6\t254\t39\t5166\t\n",
            "Total error rate: 0.09525\n",
            "\n",
            "Testing results with noise:  0\n",
            "\t0\t1\t2\t3\t4\t5\t6\t7\t8\t9\t\n",
            "0\t959\t0\t1\t0\t2\t6\t7\t2\t2\t1\t\n",
            "1\t0\t1121\t2\t3\t1\t2\t2\t2\t1\t1\t\n",
            "2\t13\t32\t897\t20\t13\t3\t16\t8\t27\t3\t\n",
            "3\t9\t3\t19\t905\t3\t29\t4\t12\t18\t8\t\n",
            "4\t2\t3\t6\t1\t919\t5\t7\t6\t3\t30\t\n",
            "5\t8\t6\t3\t43\t14\t778\t18\t4\t15\t3\t\n",
            "6\t9\t5\t8\t3\t8\t11\t907\t1\t5\t1\t\n",
            "7\t0\t25\t22\t3\t15\t1\t0\t930\t2\t30\t\n",
            "8\t9\t27\t8\t24\t21\t35\t18\t13\t806\t13\t\n",
            "9\t8\t8\t1\t17\t49\t11\t0\t32\t7\t876\t\n",
            "Total error rate: 0.0902\n"
          ]
        },
        {
          "data": {
            "image/png": "[encoded data removed]",
            "text/plain": [
              "<Figure size 432x288 with 1 Axes>"
            ]
          },
          "metadata": {
            "needs_background": "light"
          },
          "output_type": "display_data"
        },
        {
          "name": "stdout",
          "output_type": "stream",
          "text": [
            "Testing results with noise:  0.01\n",
            "\t0\t1\t2\t3\t4\t5\t6\t7\t8\t9\t\n",
            "0\t961\t0\t1\t0\t2\t5\t6\t2\t2\t1\t\n",
            "1\t0\t1121\t2\t4\t1\t2\t2\t2\t1\t0\t\n",
            "2\t14\t34\t892\t20\t13\t3\t17\t9\t27\t3\t\n",
            "3\t9\t3\t18\t904\t3\t29\t4\t15\t17\t8\t\n",
            "4\t2\t3\t6\t1\t913\t5\t8\t6\t3\t35\t\n",
            "5\t8\t7\t3\t41\t13\t781\t18\t4\t14\t3\t\n",
            "6\t8\t5\t8\t3\t8\t12\t907\t1\t5\t1\t\n",
            "7\t1\t27\t22\t2\t17\t1\t0\t925\t2\t31\t\n",
            "8\t10\t26\t7\t24\t19\t38\t18\t13\t805\t14\t\n",
            "9\t8\t8\t1\t16\t48\t12\t0\t31\t7\t878\t\n",
            "Total error rate: 0.0913\n"
          ]
        },
        {
          "data": {
            "image/png": "[encoded data removed]",
            "text/plain": [
              "<Figure size 432x288 with 1 Axes>"
            ]
          },
          "metadata": {
            "needs_background": "light"
          },
          "output_type": "display_data"
        },
        {
          "name": "stdout",
          "output_type": "stream",
          "text": [
            "Testing results with noise:  0.03\n",
            "\t0\t1\t2\t3\t4\t5\t6\t7\t8\t9\t\n",
            "0\t959\t0\t1\t0\t2\t6\t6\t2\t2\t2\t\n",
            "1\t0\t1121\t3\t2\t1\t1\t2\t2\t2\t1\t\n",
            "2\t12\t34\t894\t17\t14\t5\t15\t12\t26\t3\t\n",
            "3\t8\t2\t17\t906\t3\t32\t3\t15\t15\t9\t\n",
            "4\t2\t2\t8\t1\t910\t5\t7\t6\t4\t37\t\n",
            "5\t11\t9\t3\t38\t14\t769\t21\t5\t14\t8\t\n",
            "6\t9\t5\t12\t4\t8\t11\t902\t1\t5\t1\t\n",
            "7\t0\t26\t24\t1\t14\t0\t0\t926\t5\t32\t\n",
            "8\t9\t28\t6\t19\t22\t40\t21\t12\t803\t14\t\n",
            "9\t11\t9\t0\t15\t52\t10\t0\t29\t7\t876\t\n",
            "Total error rate: 0.0934\n"
          ]
        },
        {
          "data": {
            "image/png": "[encoded data removed]",
            "text/plain": [
              "<Figure size 432x288 with 1 Axes>"
            ]
          },
          "metadata": {
            "needs_background": "light"
          },
          "output_type": "display_data"
        },
        {
          "name": "stdout",
          "output_type": "stream",
          "text": [
            "Testing results with noise:  0.1\n",
            "\t0\t1\t2\t3\t4\t5\t6\t7\t8\t9\t\n",
            "0\t946\t0\t1\t3\t2\t13\t10\t2\t2\t1\t\n",
            "1\t0\t1113\t5\t4\t1\t3\t1\t2\t6\t0\t\n",
            "2\t17\t37\t853\t24\t24\t5\t24\t13\t31\t4\t\n",
            "3\t9\t3\t24\t865\t4\t47\t5\t12\t25\t16\t\n",
            "4\t5\t6\t5\t4\t880\t9\t13\t10\t4\t46\t\n",
            "5\t15\t10\t0\t64\t18\t723\t25\t10\t21\t6\t\n",
            "6\t11\t9\t18\t4\t14\t17\t878\t4\t2\t1\t\n",
            "7\t2\t25\t24\t4\t21\t1\t0\t897\t2\t52\t\n",
            "8\t7\t33\t12\t40\t25\t42\t30\t17\t752\t16\t\n",
            "9\t10\t15\t2\t17\t68\t13\t3\t51\t12\t818\t\n",
            "Total error rate: 0.1275\n"
          ]
        },
        {
          "data": {
            "image/png": "[encoded data removed]",
            "text/plain": [
              "<Figure size 432x288 with 1 Axes>"
            ]
          },
          "metadata": {
            "needs_background": "light"
          },
          "output_type": "display_data"
        },
        {
          "name": "stdout",
          "output_type": "stream",
          "text": [
            "Testing results with noise:  0.3\n",
            "\t0\t1\t2\t3\t4\t5\t6\t7\t8\t9\t\n",
            "0\t788\t3\t23\t12\t13\t65\t36\t19\t9\t12\t\n",
            "1\t2\t864\t47\t40\t19\t24\t27\t36\t54\t22\t\n",
            "2\t42\t89\t630\t64\t30\t16\t73\t19\t49\t20\t\n",
            "3\t36\t47\t62\t608\t22\t99\t24\t30\t55\t27\t\n",
            "4\t19\t26\t35\t28\t616\t29\t53\t70\t23\t83\t\n",
            "5\t58\t51\t22\t100\t44\t459\t40\t26\t60\t32\t\n",
            "6\t50\t23\t66\t12\t60\t55\t653\t9\t19\t11\t\n",
            "7\t21\t49\t46\t37\t54\t41\t13\t614\t13\t140\t\n",
            "8\t24\t94\t59\t70\t53\t89\t38\t22\t477\t48\t\n",
            "9\t22\t24\t37\t60\t152\t49\t23\t129\t53\t460\t\n",
            "Total error rate: 0.3831\n"
          ]
        },
        {
          "data": {
            "image/png": "[encoded data removed]",
            "text/plain": [
              "<Figure size 432x288 with 1 Axes>"
            ]
          },
          "metadata": {
            "needs_background": "light"
          },
          "output_type": "display_data"
        },
        {
          "name": "stdout",
          "output_type": "stream",
          "text": [
            "Testing results with noise:  1\n",
            "\t0\t1\t2\t3\t4\t5\t6\t7\t8\t9\t\n",
            "0\t336\t75\t99\t60\t55\t99\t90\t65\t47\t54\t\n",
            "1\t82\t380\t99\t104\t59\t87\t112\t103\t53\t56\t\n",
            "2\t108\t144\t263\t92\t76\t41\t140\t60\t58\t50\t\n",
            "3\t138\t152\t89\t192\t83\t90\t81\t68\t58\t59\t\n",
            "4\t82\t104\t74\t60\t230\t54\t126\t123\t39\t90\t\n",
            "5\t116\t134\t59\t96\t90\t154\t81\t53\t63\t46\t\n",
            "6\t102\t106\t102\t62\t93\t79\t280\t49\t26\t59\t\n",
            "7\t128\t125\t96\t66\t104\t67\t76\t217\t41\t108\t\n",
            "8\t98\t126\t99\t118\t71\t102\t89\t60\t147\t64\t\n",
            "9\t90\t112\t97\t83\t149\t81\t83\t115\t54\t145\t\n",
            "Total error rate: 0.7656\n"
          ]
        },
        {
          "data": {
            "image/png": "[encoded data removed]",
            "text/plain": [
              "<Figure size 432x288 with 1 Axes>"
            ]
          },
          "metadata": {
            "needs_background": "light"
          },
          "output_type": "display_data"
        }
      ]
    },
    {
      "cell_type": "markdown",
      "metadata": {
        "id": "p03PgQXeKVmo"
      },
      "source": [
        "The most remarkable result is how the linear model error jump ass soon as noise is introduced.It is reazonable it is the one that generalizes worse, as it can't use non-linear featrues. But I find weird it jumps that fust to basically random guessing ass soon as there is a bit of noise.\n",
        "Tenting with smaller $L$ it generalizes better\n",
        "\n",
        "Both sigmoid and reLu have the greatest increase of error between 0.1 and 0.3, but in general we can sey they generalize quite well, even with a huge noise they still outperform random predictions (error = 0.9)."
      ]
    }
  ]
}